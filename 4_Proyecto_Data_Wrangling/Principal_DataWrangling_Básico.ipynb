{
 "cells": [
  {
   "metadata": {},
   "cell_type": "markdown",
   "source": "# 0. CONFIGURACIÓN INICIAL Y DATOS",
   "id": "7d0e004bbf1b52d2"
  },
  {
   "cell_type": "code",
   "id": "initial_id",
   "metadata": {
    "collapsed": true
   },
   "source": [
    "# Importación de librerías necesarias\n",
    "import pandas as pd\n",
    "import numpy as np\n",
    "\n",
    "# Verificación de versiones instaladas\n",
    "print(f\"¡Pandas importado!\\n\\tLa versión de Pandas es: {pd.__version__}\")\n",
    "print(f\"¡NumPy importado!\\n\\tLa versión de NumPy es: {np.__version__}\")"
   ],
   "outputs": [],
   "execution_count": null
  },
  {
   "metadata": {},
   "cell_type": "code",
   "source": [
    "# Cargar todos los datos directo desde un CSV\n",
    "df = pd.read_csv(\"datos_wrangling.csv\")\n",
    "df"
   ],
   "id": "bcc9f872783997e9",
   "outputs": [],
   "execution_count": null
  },
  {
   "metadata": {},
   "cell_type": "markdown",
   "source": "# 1. CONCEPTOS FUNDAMENTALES",
   "id": "7c6f0466864dcda8"
  },
  {
   "metadata": {},
   "cell_type": "code",
   "source": [
    "print(\"=== DATA WRANGLING - CONCEPTOS FUNDAMENTALES ===\")\n",
    "print(\"El Data Wrangling es el proceso de transformar y estructurar datos\")\n",
    "print(\"para que sean adecuados para el análisis.\")\n",
    "print()\n",
    "\n",
    "# Ejemplo básico de transformación de datos\n",
    "print(\"--- Ejemplo de transformación de datos ---\")\n",
    "\n",
    "print(\"Datos originales:\")\n",
    "print(df)\n",
    "print(\"\\nTipos de datos originales:\")\n",
    "print(df.dtypes)"
   ],
   "id": "83edc499865acfcf",
   "outputs": [],
   "execution_count": null
  },
  {
   "metadata": {},
   "cell_type": "markdown",
   "source": "# 2. MUESTREO ALEATORIO Y PERMUTACIÓN",
   "id": "624e6153897b6f86"
  },
  {
   "metadata": {},
   "cell_type": "code",
   "source": [
    "#Copia del DataFrame\n",
    "df_muestreo = df.copy()\n",
    "\n",
    "# Muestreo aleatorio de 5 filas\n",
    "muestra = df_muestreo.sample(n=5)\n",
    "print(\"Muestreo de 5 filas específicas:\")\n",
    "muestra"
   ],
   "id": "1d6ecf8e4c26cf91",
   "outputs": [],
   "execution_count": null
  },
  {
   "metadata": {},
   "cell_type": "code",
   "source": [
    "# Muestreo del 20% de los datos\n",
    "muestra_porcentaje = df_muestreo.sample(frac=0.2)\n",
    "print(f\"Muestreo del 20% de los datos ({len(muestra_porcentaje)} filas):\")\n",
    "muestra_porcentaje"
   ],
   "id": "910b53cdd1d0d3c8",
   "outputs": [],
   "execution_count": null
  },
  {
   "metadata": {},
   "cell_type": "code",
   "source": [
    "# La permutación permite reorganizar aleatoriamente los datos en un orden diferente, lo cual es útil en validaciones cruzadas o en experimentos donde se desea eliminar el sesgo del orden original de los datos.\n",
    "\n",
    "# Permutación aleatoria de todas las filas\n",
    "df_permutado = df_muestreo.sample(frac=1).reset_index(drop=True)\n",
    "print(\"Permutación completa del dataset:\")\n",
    "df_permutado.head()"
   ],
   "id": "8f388e6b5aee0099",
   "outputs": [],
   "execution_count": null
  },
  {
   "metadata": {},
   "cell_type": "code",
   "source": [
    "# Comparación: primeras 5 filas antes y después de la permutación\n",
    "print(\"Dataset original (primeras 5 filas):\")\n",
    "df_muestreo[['nombre', 'categoria', 'precio']].head()"
   ],
   "id": "afc188e2fd121f9f",
   "outputs": [],
   "execution_count": null
  },
  {
   "metadata": {},
   "cell_type": "code",
   "source": [
    "print(\"Dataset permutado (primeras 5 filas):\")\n",
    "df_permutado[['nombre', 'categoria', 'precio']].head()"
   ],
   "id": "d6b435080b43df4",
   "outputs": [],
   "execution_count": null
  },
  {
   "metadata": {},
   "cell_type": "markdown",
   "source": "# 3. ORDENAMIENTO DE LOS DATOS",
   "id": "9722df780062f26f"
  },
  {
   "metadata": {},
   "cell_type": "code",
   "source": [
    "# El ordenamiento de los datos permite organizar la información según valores específicos. En Pandas, se puede ordenar de forma ascendente o descendente con sort_values().\n",
    "\n",
    "# Ordenar por la columna 'precio' de forma ascendente\n",
    "df_ordenado = df.sort_values('precio')\n",
    "\n",
    "# El ordenamiento no va a ser el esperado porque hay datos con el caracter $, Python interpreta Strings\n",
    "print(\"Ordenado por 'precio' (ascendente):\")\n",
    "df_ordenado[['nombre', 'categoria', 'precio', 'ventas']].head()"
   ],
   "id": "89b02e5e3ace50e5",
   "outputs": [],
   "execution_count": null
  },
  {
   "metadata": {},
   "cell_type": "code",
   "source": [
    "# Ordenar de forma descendente\n",
    "df_desc = df_ordenado.sort_values('precio', ascending=False)\n",
    "print(\"Ordenado por 'precio' (descendente):\")\n",
    "df_desc[['nombre', 'categoria', 'precio', 'ventas']].head()"
   ],
   "id": "aabae70ed828653a",
   "outputs": [],
   "execution_count": null
  },
  {
   "metadata": {},
   "cell_type": "code",
   "source": [
    "# También es posible ordenar por múltiples columnas, estableciendo prioridades en el ordenamiento.\n",
    "\n",
    "# Ordenar primero por 'categoria' y luego por 'precio'\n",
    "df_multi = df_ordenado.sort_values(['categoria', 'precio'], ascending=[True, False])\n",
    "print(\"Ordenado por 'categoria' (ascendente) y luego por 'precio' (descendente):\")\n",
    "df_multi[['nombre', 'categoria', 'precio', 'ventas']].head(10)"
   ],
   "id": "9e8853898550b8e1",
   "outputs": [],
   "execution_count": null
  },
  {
   "metadata": {},
   "cell_type": "markdown",
   "source": "# 4. TRANSFORMACIÓN DE DATOS",
   "id": "aa88070c5e1f9e09"
  },
  {
   "metadata": {},
   "cell_type": "code",
   "source": [
    "# Transformación de fechas - maneja múltiples formatos automáticamente\n",
    "df['fecha'] = pd.to_datetime(df['fecha'], format='mixed', errors='coerce')\n",
    "print(\"Fechas transformadas:\")\n",
    "print(df['fecha'].head(8))"
   ],
   "id": "1b12cfe710a12776",
   "outputs": [],
   "execution_count": null
  },
  {
   "metadata": {},
   "cell_type": "code",
   "source": [
    "# Transformación de precios - limpiar símbolos y convertir a numérico\n",
    "df['precio'] = df['precio'].astype(str).str.replace('[$€]', '', regex=True)\n",
    "df['precio'] = df['precio'].str.replace(',', '', regex=True)\n",
    "df['precio'] = pd.to_numeric(df['precio'], errors='coerce')\n",
    "\n",
    "print(\"Precios transformados:\")\n",
    "print(df['precio'].head(8))"
   ],
   "id": "b6937be5bcdaa916",
   "outputs": [],
   "execution_count": null
  },
  {
   "metadata": {},
   "cell_type": "code",
   "source": [
    "# Verificar las transformaciones\n",
    "print(\"Tipos de datos después de la transformación:\")\n",
    "print(df[['fecha', 'precio']].dtypes)\n",
    "print(f\"\\nFechas válidas: {df['fecha'].notna().sum()} de {len(df)}\")\n",
    "print(f\"Precios válidos: {df['precio'].notna().sum()} de {len(df)}\")"
   ],
   "id": "6f0bb9f3b4501bd9",
   "outputs": [],
   "execution_count": null
  },
  {
   "metadata": {},
   "cell_type": "code",
   "source": [
    "# Mostrar datos limpios\n",
    "print(\"Datos transformados (primeras 8 filas):\")\n",
    "df[['nombre', 'fecha', 'precio']].head(8)"
   ],
   "id": "a2acd76a87a749c4",
   "outputs": [],
   "execution_count": null
  },
  {
   "metadata": {},
   "cell_type": "markdown",
   "source": "# 5. REORDENAMIENTO",
   "id": "4e396674aa2fc1ae"
  },
  {
   "metadata": {},
   "cell_type": "code",
   "source": [
    "# El ordenamiento de los datos permite organizar la información según valores específicos. En Pandas, se puede ordenar de forma ascendente o descendente con sort_values().\n",
    "\n",
    "# Ordenar por la columna 'precio' de forma ascendente\n",
    "df_ordenado = df.sort_values('precio')\n",
    "\n",
    "# Ahora si el ordenamiento funcionará bien porque la columna 'precio' solo posee numéricos\n",
    "print(\"Ordenado por 'precio' (ascendente):\")\n",
    "df_ordenado[['nombre', 'categoria', 'precio', 'ventas']].head()"
   ],
   "id": "49b26352b6323061",
   "outputs": [],
   "execution_count": null
  },
  {
   "metadata": {},
   "cell_type": "markdown",
   "source": "# 6. DETECCIÓN Y ELIMINACIÓN DE DUPLICADOS",
   "id": "397307862d309205"
  },
  {
   "metadata": {},
   "cell_type": "code",
   "source": [
    "# Detección y eliminación de registros duplicados\n",
    "print(\"=== DETECCIÓN Y ELIMINACIÓN DE REGISTROS DUPLICADOS ===\")\n",
    "print(\"Proceso de 4 etapas: Identificación → Análisis → Eliminación → Verificación\")"
   ],
   "id": "e1b02b555b7dd490",
   "outputs": [],
   "execution_count": null
  },
  {
   "metadata": {},
   "cell_type": "code",
   "source": [
    "# IDENTIFICACIÓN - Detectar registros duplicados\n",
    "print(\"--- 1. IDENTIFICACIÓN ---\")\n",
    "duplicados = df.duplicated()\n",
    "print(f\"Registros duplicados encontrados: {duplicados.sum()}\")\n",
    "print(f\"Filas duplicadas (True/False):\")\n",
    "print(duplicados.head())"
   ],
   "id": "226877f3d70d33f6",
   "outputs": [],
   "execution_count": null
  },
  {
   "metadata": {},
   "cell_type": "code",
   "source": [
    "# ANÁLISIS - Ver las filas duplicadas\n",
    "print(\"--- 2. ANÁLISIS ---\")\n",
    "filas_duplicadas = df[df.duplicated()]\n",
    "print(f\"Filas que son duplicados completos:\")\n",
    "filas_duplicadas"
   ],
   "id": "6a0ad8517213085",
   "outputs": [],
   "execution_count": null
  },
  {
   "metadata": {},
   "cell_type": "code",
   "source": [
    "# También detectar duplicados por columnas específicas\n",
    "duplicados_email = df.duplicated(subset=['email'])\n",
    "print(f\"Duplicados por email: {duplicados_email.sum()}\")"
   ],
   "id": "70d1a36545a9af93",
   "outputs": [],
   "execution_count": null
  },
  {
   "metadata": {},
   "cell_type": "code",
   "source": [
    "# ELIMINACIÓN - Remover duplicados (conserva la primera ocurrencia)\n",
    "print(\"--- 3. ELIMINACIÓN ---\")\n",
    "df_sin_duplicados = df.drop_duplicates()\n",
    "print(f\"Filas antes: {len(df)}\")\n",
    "print(f\"Filas después: {len(df_sin_duplicados)}\")\n",
    "print(f\"Duplicados eliminados: {len(df) - len(df_sin_duplicados)}\")"
   ],
   "id": "c65a9cf0d238374",
   "outputs": [],
   "execution_count": null
  },
  {
   "metadata": {},
   "cell_type": "code",
   "source": [
    "# VERIFICACIÓN - Confirmar que los datos están limpios\n",
    "print(\"--- 4. VERIFICACIÓN ---\")\n",
    "verificacion = df_sin_duplicados.duplicated().sum()\n",
    "print(f\"Duplicados restantes: {verificacion}\")\n",
    "print(\"✓ Datos limpios y sin redundancias\" if verificacion == 0 else \"⚠ Aún hay duplicados\")"
   ],
   "id": "dd4ddc5c7c00836a",
   "outputs": [],
   "execution_count": null
  },
  {
   "metadata": {},
   "cell_type": "markdown",
   "source": "# 7. REEMPLAZO DE VALORES",
   "id": "4943a77c9b372085"
  },
  {
   "metadata": {},
   "cell_type": "code",
   "source": [
    "# Reemplazo de valores\n",
    "print(\"=== REEMPLAZO DE VALORES ===\")\n",
    "print(\"Corrección de valores incorrectos, mal escritos o inconsistentes\")"
   ],
   "id": "fd286297c881164a",
   "outputs": [],
   "execution_count": null
  },
  {
   "metadata": {},
   "cell_type": "code",
   "source": [
    "# REEMPLAZO SIMPLE\n",
    "print(\"--- REEMPLAZO SIMPLE ---\")\n",
    "print(\"Valores únicos en 'categoria' antes del reemplazo:\")\n",
    "print(df['categoria'].value_counts(dropna=False))"
   ],
   "id": "d3a83574b5e95248",
   "outputs": [],
   "execution_count": null
  },
  {
   "metadata": {},
   "cell_type": "code",
   "source": [
    "# Reemplazar un valor específico\n",
    "df['categoria'] = df['categoria'].replace('Electronicos', 'Electrónicos')\n",
    "df['categoria']"
   ],
   "id": "f6f317b32a3d0c86",
   "outputs": [],
   "execution_count": null
  },
  {
   "metadata": {},
   "cell_type": "code",
   "source": [
    "# Reemplazar múltiples valores usando diccionario\n",
    "df['estado'] = df['estado'].replace({\n",
    "    'Actvo': 'Activo',\n",
    "    'activo': 'Activo',\n",
    "    'ACTIVO': 'Activo',\n",
    "    'INACTIVO': 'Inactivo',\n",
    "    'inactivo': 'Inactivo'\n",
    "})\n",
    "df['estado']"
   ],
   "id": "dcfd694842b26107",
   "outputs": [],
   "execution_count": null
  },
  {
   "metadata": {},
   "cell_type": "code",
   "source": [
    "print(\"Valores en 'estado' después del reemplazo:\")\n",
    "print(df['estado'].value_counts(dropna=False))"
   ],
   "id": "31fc07edfdf5fede",
   "outputs": [],
   "execution_count": null
  },
  {
   "metadata": {},
   "cell_type": "code",
   "source": [
    "# REEMPLAZO CON EXPRESIONES REGULARES\n",
    "print(\"--- REEMPLAZO CON EXPRESIONES REGULARES ---\")\n",
    "print(\"Formatos de teléfono antes del reemplazo:\")\n",
    "print(df['telefono'].head(8))"
   ],
   "id": "1a394bfc2bb7cec5",
   "outputs": [],
   "execution_count": null
  },
  {
   "metadata": {},
   "cell_type": "code",
   "source": [
    "# Limpiar TODOS los separadores primero\n",
    "df['telefono'] = df['telefono'].str.replace(r'[.\\s-]', '', regex=True)\n",
    "\n",
    "# Formatear números de 7 dígitos: XXXXXXX → XXX-XXXX\n",
    "df['telefono'] = df['telefono'].str.replace(\n",
    "    r'^(\\d{2})(\\d{5})$',\n",
    "    r'(\\1) \\2',\n",
    "    regex=True\n",
    ")\n",
    "\n",
    "df['telefono']"
   ],
   "id": "55a4dc9181e023ac",
   "outputs": [],
   "execution_count": null
  },
  {
   "metadata": {},
   "cell_type": "code",
   "source": [
    "# Estandarizar categorías con regex (mayúsculas/minúsculas)\n",
    "print(\"--- ESTANDARIZACIÓN DE CATEGORÍAS ---\")\n",
    "# Primera letra mayúscula\n",
    "df['categoria'] = df['categoria'].str.title()\n",
    "\n",
    "print(\"Categorías estandarizadas:\")\n",
    "print(df['categoria'].value_counts(dropna=False))"
   ],
   "id": "800a5fd06e872eae",
   "outputs": [],
   "execution_count": null
  },
  {
   "metadata": {},
   "cell_type": "code",
   "source": [
    "# Reemplazar valores nulos y problemáticos\n",
    "print(\"--- REEMPLAZO DE VALORES PROBLEMÁTICOS ---\")\n",
    "# Reemplazar valores que representan nulos\n",
    "df = df.replace(['null', 'n/a', '#N/A', 'N/A'], pd.NA)\n",
    "\n",
    "print(\"Valores nulos por columna después del reemplazo:\")\n",
    "print(df.isnull().sum())\n",
    "print()"
   ],
   "id": "115d4b31e1691c9",
   "outputs": [],
   "execution_count": null
  },
  {
   "metadata": {},
   "cell_type": "markdown",
   "source": "# 8. CONVERSIÓN DE COLUMNAS (TIPOS)",
   "id": "810d66a91ab885bc"
  },
  {
   "metadata": {
    "ExecuteTime": {
     "end_time": "2025-06-29T22:35:26.989101Z",
     "start_time": "2025-06-29T22:35:26.980125Z"
    }
   },
   "cell_type": "code",
   "source": [
    "# Conversión de edad a numérico\n",
    "print(\"Convertir columna 'edad' a numérico:\")\n",
    "df['edad'] = pd.to_numeric(df['edad'], errors='coerce')\n",
    "print(\"✓ Edades convertidas\")"
   ],
   "id": "3ab6b637003cf2ce",
   "outputs": [
    {
     "name": "stdout",
     "output_type": "stream",
     "text": [
      "Convertir columna 'edad' a numérico:\n",
      "✓ Edades convertidas\n"
     ]
    }
   ],
   "execution_count": 192
  },
  {
   "metadata": {
    "ExecuteTime": {
     "end_time": "2025-06-29T22:35:46.262074Z",
     "start_time": "2025-06-29T22:35:46.256090Z"
    }
   },
   "cell_type": "code",
   "source": [
    "# Conversión de ingresos a numérico\n",
    "print(\"Convertir columna 'ingreso' a numérico:\")\n",
    "df['ingreso'] = pd.to_numeric(df['ingreso'], errors='coerce')\n",
    "print(\"✓ Ingresos convertidos\")"
   ],
   "id": "e16ed0d9c2a6d036",
   "outputs": [
    {
     "name": "stdout",
     "output_type": "stream",
     "text": [
      "Convertir columna 'ingreso' a numérico:\n",
      "✓ Ingresos convertidos\n"
     ]
    }
   ],
   "execution_count": 193
  },
  {
   "metadata": {
    "ExecuteTime": {
     "end_time": "2025-06-29T22:35:55.882814Z",
     "start_time": "2025-06-29T22:35:55.875832Z"
    }
   },
   "cell_type": "code",
   "source": [
    "# Conversión de categoría a tipo category (optimiza memoria)\n",
    "print(\"Convertir columna 'estado' a categoria:\")\n",
    "df['estado'] = df['estado'].astype('category')\n",
    "print(\"✓ Estados convertidos a categoría\")"
   ],
   "id": "f0d327aae97e46ef",
   "outputs": [
    {
     "name": "stdout",
     "output_type": "stream",
     "text": [
      "Convertir columna 'estado' a categoria:\n",
      "✓ Estados convertidos a categoría\n"
     ]
    }
   ],
   "execution_count": 194
  },
  {
   "metadata": {},
   "cell_type": "markdown",
   "source": "# 9. VOLVER A ELIMINAR DUPLICADOS",
   "id": "b21ae545426f7877"
  },
  {
   "metadata": {
    "ExecuteTime": {
     "end_time": "2025-06-29T22:37:44.552537Z",
     "start_time": "2025-06-29T22:37:44.528823Z"
    }
   },
   "cell_type": "code",
   "source": [
    "# === DETECCIÓN Y ELIMINACIÓN DE DUPLICADOS ===\n",
    "print(\"=== DETECCIÓN Y ELIMINACIÓN DE REGISTROS DUPLICADOS ===\")\n",
    "print(\"Proceso de 4 etapas: Identificación → Análisis → Eliminación → Verificación\")\n",
    "print()\n",
    "\n",
    "# 1. IDENTIFICACIÓN\n",
    "print(\"--- 1. IDENTIFICACIÓN ---\")\n",
    "duplicados = df.duplicated()\n",
    "print(f\"Registros duplicados encontrados: {duplicados.sum()}\")\n",
    "print()\n",
    "\n",
    "# 2. ANÁLISIS\n",
    "print(\"--- 2. ANÁLISIS ---\")\n",
    "filas_duplicadas = df[df.duplicated()]\n",
    "print(f\"Filas que son duplicados completos:\")\n",
    "print(filas_duplicadas[['nombre', 'categoria', 'precio']])\n",
    "print()\n",
    "\n",
    "# 3. ELIMINACIÓN\n",
    "print(\"--- 3. ELIMINACIÓN ---\")\n",
    "df_sin_duplicados = df.drop_duplicates()\n",
    "print(f\"Filas antes: {len(df)}\")\n",
    "print(f\"Filas después: {len(df_sin_duplicados)}\")\n",
    "print(f\"Duplicados eliminados: {len(df) - len(df_sin_duplicados)}\")\n",
    "print()\n",
    "\n",
    "# 4. VERIFICACIÓN\n",
    "print(\"--- 4. VERIFICACIÓN ---\")\n",
    "verificacion = df_sin_duplicados.duplicated().sum()\n",
    "print(f\"Duplicados restantes: {verificacion}\")\n",
    "print(\"✓ Datos limpios y sin redundancias\" if verificacion == 0 else \"⚠ Aún hay duplicados\")\n",
    "print()"
   ],
   "id": "750eeac612809869",
   "outputs": [
    {
     "name": "stdout",
     "output_type": "stream",
     "text": [
      "=== DETECCIÓN Y ELIMINACIÓN DE REGISTROS DUPLICADOS ===\n",
      "Proceso de 4 etapas: Identificación → Análisis → Eliminación → Verificación\n",
      "\n",
      "--- 1. IDENTIFICACIÓN ---\n",
      "Registros duplicados encontrados: 3\n",
      "\n",
      "--- 2. ANÁLISIS ---\n",
      "Filas que son duplicados completos:\n",
      "             nombre categoria  precio\n",
      "8       Carlos Ruiz      Ropa     NaN\n",
      "15  Alberto Sánchez    Viajes  2500.0\n",
      "21  Alberto Sánchez    Viajes  2500.0\n",
      "\n",
      "--- 3. ELIMINACIÓN ---\n",
      "Filas antes: 23\n",
      "Filas después: 20\n",
      "Duplicados eliminados: 3\n",
      "\n",
      "--- 4. VERIFICACIÓN ---\n",
      "Duplicados restantes: 0\n",
      "✓ Datos limpios y sin redundancias\n",
      "\n"
     ]
    }
   ],
   "execution_count": 195
  },
  {
   "metadata": {
    "ExecuteTime": {
     "end_time": "2025-06-29T22:38:53.283216Z",
     "start_time": "2025-06-29T22:38:53.262797Z"
    }
   },
   "cell_type": "code",
   "source": [
    "# Estandarizar categorías\n",
    "df['categoria'] = df['categoria'].str.title()\n",
    "print(\"Categorías estandarizadas:\")\n",
    "print(df['categoria'].value_counts(dropna=False))\n",
    "print()\n",
    "\n",
    "# REEMPLAZO DE VALORES PROBLEMÁTICOS\n",
    "print(\"--- REEMPLAZO DE VALORES PROBLEMÁTICOS ---\")\n",
    "# Reemplazar valores que representan nulos\n",
    "df = df.replace(['null', 'n/a', '#N/A', 'N/A'], pd.NA)\n",
    "\n",
    "print(\"Valores nulos por columna después del reemplazo:\")\n",
    "print(df.isnull().sum())"
   ],
   "id": "b9b9e2d10d28e10d",
   "outputs": [
    {
     "name": "stdout",
     "output_type": "stream",
     "text": [
      "Categorías estandarizadas:\n",
      "categoria\n",
      "Viajes          4\n",
      "Ropa            3\n",
      "Electrónicos    2\n",
      "NaN             2\n",
      "Hogar           2\n",
      "Deportes        2\n",
      "Libros          2\n",
      "Salud           2\n",
      "Música          2\n",
      "Tecnología      1\n",
      "Arte            1\n",
      "Name: count, dtype: int64\n",
      "\n",
      "--- REEMPLAZO DE VALORES PROBLEMÁTICOS ---\n",
      "Valores nulos por columna después del reemplazo:\n",
      "nombre       2\n",
      "categoria    2\n",
      "precio       4\n",
      "ventas       1\n",
      "objetivo     1\n",
      "fecha        1\n",
      "estado       2\n",
      "email        1\n",
      "telefono     1\n",
      "edad         2\n",
      "ingreso      3\n",
      "dtype: int64\n"
     ]
    }
   ],
   "execution_count": 197
  },
  {
   "metadata": {},
   "cell_type": "markdown",
   "source": "# 10. MANEJO DE VALORES PERDIDOS (NULOS) MÁS IMPUTACIÓN",
   "id": "f949e4951cc671f4"
  },
  {
   "metadata": {
    "ExecuteTime": {
     "end_time": "2025-06-29T22:43:13.424783Z",
     "start_time": "2025-06-29T22:43:13.418208Z"
    }
   },
   "cell_type": "code",
   "source": [
    "# IMPUTACIÓN\n",
    "print(\"--- IMPUTACIÓN ---\")\n",
    "print(\"Reemplazar valores faltantes con valores estimados o calculados\")\n",
    "\n",
    "# Crear una copia para imputación\n",
    "df_imputado = df.copy()"
   ],
   "id": "65c23a019dd7ec2",
   "outputs": [
    {
     "name": "stdout",
     "output_type": "stream",
     "text": [
      "--- 4. IMPUTACIÓN ---\n",
      "Reemplazar valores faltantes con valores estimados o calculados\n"
     ]
    }
   ],
   "execution_count": 198
  },
  {
   "metadata": {
    "ExecuteTime": {
     "end_time": "2025-06-29T23:21:40.398908Z",
     "start_time": "2025-06-29T23:21:40.393921Z"
    }
   },
   "cell_type": "code",
   "source": [
    "# Imputar edad con la mediana\n",
    "if df_imputado['edad'].isnull().sum() > 0:\n",
    "    nulos_edad = df_imputado['edad'].isnull().sum()\n",
    "    mediana_edad = df_imputado['edad'].median()\n",
    "    df_imputado['edad'] = df_imputado['edad'].fillna(mediana_edad)\n",
    "    print(f\"✓ Edad: {nulos_edad} valores imputados con mediana ({mediana_edad})\")"
   ],
   "id": "fbb4e899e8924909",
   "outputs": [],
   "execution_count": 217
  },
  {
   "metadata": {
    "ExecuteTime": {
     "end_time": "2025-06-29T23:21:38.894492Z",
     "start_time": "2025-06-29T23:21:38.887482Z"
    }
   },
   "cell_type": "code",
   "source": [
    "# Imputar ingresos con la mediana\n",
    "if df_imputado['ingreso'].isnull().sum() > 0:\n",
    "    nulos_ingreso = df_imputado['ingreso'].isnull().sum()\n",
    "    mediana_ingreso = df_imputado['ingreso'].median()\n",
    "    df_imputado['ingreso'] = df_imputado['ingreso'].fillna(mediana_ingreso)\n",
    "    print(f\"✓ Ingresos: {nulos_ingreso} valores imputados con mediana ({mediana_ingreso})\")"
   ],
   "id": "f3b6bf37f993657a",
   "outputs": [],
   "execution_count": 216
  },
  {
   "metadata": {
    "ExecuteTime": {
     "end_time": "2025-06-29T22:46:26.334691Z",
     "start_time": "2025-06-29T22:46:26.326772Z"
    }
   },
   "cell_type": "code",
   "source": [
    "# Imputar categoría con la moda (valor más frecuente)\n",
    "if df_imputado['categoria'].isnull().sum() > 0:\n",
    "    nulos_categoria = df_imputado['categoria'].isnull().sum()\n",
    "    moda_categoria = df_imputado['categoria'].mode()[0]\n",
    "    df_imputado['categoria'] = df_imputado['categoria'].fillna(moda_categoria)\n",
    "    print(f\"✓ Categoría: {nulos_categoria} valores imputados con moda ('{moda_categoria}')\")"
   ],
   "id": "6253ef270e2c97a2",
   "outputs": [
    {
     "name": "stdout",
     "output_type": "stream",
     "text": [
      "✓ Categoría: 2 valores imputados con moda ('Viajes')\n"
     ]
    }
   ],
   "execution_count": 203
  },
  {
   "metadata": {
    "ExecuteTime": {
     "end_time": "2025-06-29T23:21:28.562827Z",
     "start_time": "2025-06-29T23:21:28.556307Z"
    }
   },
   "cell_type": "code",
   "source": [
    "# Imputar ventas con 0 (valor específico para este caso de negocio)\n",
    "if df_imputado['ventas'].isnull().sum() > 0:\n",
    "    ventas_nulas = df_imputado['ventas'].isnull().sum()\n",
    "    df_imputado['ventas'] = df_imputado['ventas'].fillna(0)\n",
    "    print(f\"✓ Ventas: {ventas_nulas} valores imputados con 0\")"
   ],
   "id": "663deefde5b49fb5",
   "outputs": [],
   "execution_count": 215
  },
  {
   "metadata": {
    "ExecuteTime": {
     "end_time": "2025-06-29T23:21:02.155177Z",
     "start_time": "2025-06-29T23:21:02.145439Z"
    }
   },
   "cell_type": "code",
   "source": [
    "# Imputar precios con la media de la categoría\n",
    "if df_imputado['precio'].isnull().sum() > 0:\n",
    "    precios_nulos = df_imputado['precio'].isnull().sum()\n",
    "    # Calcular precio promedio por categoría\n",
    "    precio_por_categoria = df_imputado.groupby('categoria')['precio'].mean()\n",
    "\n",
    "    # Función para imputar precio basado en categoría\n",
    "    def imputar_precio(row):\n",
    "        if pd.isnull(row['precio']) and not pd.isnull(row['categoria']):\n",
    "            return precio_por_categoria.get(row['categoria'], df_imputado['precio'].mean())\n",
    "        return row['precio']\n",
    "\n",
    "    df_imputado['precio'] = df_imputado.apply(imputar_precio, axis=1)\n",
    "    print(f\"✓ Precios: {precios_nulos} valores imputados con promedio por categoría\")"
   ],
   "id": "95509aee10e6c165",
   "outputs": [
    {
     "name": "stdout",
     "output_type": "stream",
     "text": [
      "✓ Precios: 1 valores imputados con promedio por categoría\n"
     ]
    }
   ],
   "execution_count": 214
  },
  {
   "metadata": {
    "ExecuteTime": {
     "end_time": "2025-06-29T23:19:35.534556Z",
     "start_time": "2025-06-29T23:19:35.528345Z"
    }
   },
   "cell_type": "code",
   "source": [
    "if df_imputado['nombre'].isnull().sum() > 0:\n",
    "    nombres_nulos = df_imputado['nombre'].isnull().sum()\n",
    "    df_imputado['nombre'] = df_imputado['nombre'].fillna('Cliente Anónimo')\n",
    "    print(f\"✓ Nombres: {nombres_nulos} valores imputados con 'Cliente Anónimo'\")"
   ],
   "id": "b76d84116c2b269a",
   "outputs": [],
   "execution_count": 210
  },
  {
   "metadata": {
    "ExecuteTime": {
     "end_time": "2025-06-29T23:20:47.396061Z",
     "start_time": "2025-06-29T23:20:47.381828Z"
    }
   },
   "cell_type": "code",
   "source": [
    "# VERIFICACIÓN FINAL\n",
    "print(\"--- VERIFICACIÓN FINAL ---\")\n",
    "print(\"Estado después del manejo de valores nulos:\")\n",
    "print(\"Valores nulos restantes:\")\n",
    "nulos_finales = df_imputado.isnull().sum()\n",
    "print(nulos_finales)\n",
    "print()\n",
    "\n",
    "total_nulos = nulos_finales.sum()\n",
    "if total_nulos == 0:\n",
    "    print(\"🎉 ¡Perfecto! No quedan valores nulos en el dataset\")\n",
    "else:\n",
    "    print(f\"⚠️  Quedan {total_nulos} valores nulos por manejar\")\n",
    "print()"
   ],
   "id": "3b35b4042ce4dded",
   "outputs": [
    {
     "name": "stdout",
     "output_type": "stream",
     "text": [
      "--- VERIFICACIÓN FINAL ---\n",
      "Estado después del manejo de valores nulos:\n",
      "Valores nulos restantes:\n",
      "nombre       0\n",
      "categoria    0\n",
      "precio       1\n",
      "ventas       0\n",
      "objetivo     1\n",
      "fecha        1\n",
      "estado       2\n",
      "email        1\n",
      "telefono     1\n",
      "edad         0\n",
      "ingreso      0\n",
      "dtype: int64\n",
      "\n",
      "⚠️  Quedan 7 valores nulos por manejar\n",
      "\n"
     ]
    }
   ],
   "execution_count": 213
  }
 ],
 "metadata": {
  "kernelspec": {
   "display_name": "Python [conda env:base] *",
   "language": "python",
   "name": "conda-base-py"
  },
  "language_info": {
   "codemirror_mode": {
    "name": "ipython",
    "version": 2
   },
   "file_extension": ".py",
   "mimetype": "text/x-python",
   "name": "python",
   "nbconvert_exporter": "python",
   "pygments_lexer": "ipython2",
   "version": "2.7.6"
  }
 },
 "nbformat": 4,
 "nbformat_minor": 5
}
