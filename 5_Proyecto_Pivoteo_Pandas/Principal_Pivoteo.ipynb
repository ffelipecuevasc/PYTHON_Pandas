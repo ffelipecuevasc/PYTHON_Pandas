{
 "cells": [
  {
   "metadata": {},
   "cell_type": "markdown",
   "source": "## 1. Importación de librerías y cargado de datos",
   "id": "ed5833a8d1c91efa"
  },
  {
   "cell_type": "code",
   "id": "initial_id",
   "metadata": {
    "collapsed": true
   },
   "source": [
    "import pandas as pd\n",
    "import numpy as np\n",
    "\n",
    "print(F\"Importación ok. Versión de Pandas instalada = {pd.__version__}\")\n",
    "print(F\"Importación ok. Versión de NumPy instalada = {np.__version__}\")"
   ],
   "outputs": [],
   "execution_count": null
  },
  {
   "metadata": {},
   "cell_type": "code",
   "source": [
    "df = pd.read_csv(\"datos_ejemplo.csv\")\n",
    "df"
   ],
   "id": "798592e09221b50f",
   "outputs": [],
   "execution_count": null
  },
  {
   "metadata": {},
   "cell_type": "code",
   "source": [
    "print(\"📊 DATOS ORIGINALES\")\n",
    "print(df.head())\n",
    "print(f\"\\nShape: {df.shape}\")"
   ],
   "id": "fa0370aab3ce301c",
   "outputs": [],
   "execution_count": null
  },
  {
   "metadata": {},
   "cell_type": "markdown",
   "source": "## 2. Indexación Jerárquica",
   "id": "9ded208c2f26ff60"
  },
  {
   "metadata": {},
   "cell_type": "code",
   "source": [
    "# Crear índice jerárquico con Región y Producto\n",
    "df_jerarquico = df.set_index(['Región', 'Producto']).sort_index()  # ✅ Ordenar el índice\n",
    "print(\"DataFrame con índice jerárquico (Región, Producto):\")\n",
    "df_jerarquico.head(8)"
   ],
   "id": "744f9569b31f644",
   "outputs": [],
   "execution_count": null
  },
  {
   "metadata": {},
   "cell_type": "code",
   "source": [
    "# Acceso a datos específicos\n",
    "print(\"\\n📍 Acceso a datos del Centro:\")\n",
    "df_jerarquico.loc['Centro']"
   ],
   "id": "25fa1b4cd5bb05af",
   "outputs": [],
   "execution_count": null
  },
  {
   "metadata": {},
   "cell_type": "code",
   "source": [
    "print(\"\\n📍 Acceso específico - Centro, Producto A:\")\n",
    "df_jerarquico.loc[('Centro', 'A')]"
   ],
   "id": "e81d2b47ea31e8ed",
   "outputs": [],
   "execution_count": null
  },
  {
   "metadata": {},
   "cell_type": "markdown",
   "source": "## 3. Agrupamiento de datos con groupby()",
   "id": "ab3182aa47dfa2a3"
  },
  {
   "metadata": {},
   "cell_type": "code",
   "source": [
    "# Agrupamiento básico por región\n",
    "print(\"💰 Ventas totales por región:\")\n",
    "ventas_region = df.groupby('Región')['Ventas'].sum()\n",
    "print(ventas_region)"
   ],
   "id": "de469c1133c6cfaa",
   "outputs": [],
   "execution_count": null
  },
  {
   "metadata": {},
   "cell_type": "code",
   "source": [
    "print(\"\\n📦 Estadísticas de unidades por producto:\")\n",
    "stats_producto = df.groupby('Producto')['Unidades'].agg(['mean', 'sum', 'count', 'min', 'max'])\n",
    "print(stats_producto)"
   ],
   "id": "6d6a546d91829fb5",
   "outputs": [],
   "execution_count": null
  },
  {
   "metadata": {},
   "cell_type": "code",
   "source": [
    "print(\"\\n📅 Ventas promedio por mes:\")\n",
    "    ventas_mes = df.groupby('Mes')['Ventas'].mean().round(2)\n",
    "print(ventas_mes)"
   ],
   "id": "3bee0e0974dd4382",
   "outputs": [],
   "execution_count": null
  },
  {
   "metadata": {},
   "cell_type": "code",
   "source": [
    "# Aplicar múltiples funciones a la vez\n",
    "print(\"📊 Análisis completo por región:\")\n",
    "analisis_region = df.groupby('Región').agg({\n",
    "    'Ventas': ['sum', 'mean', 'count'],\n",
    "    'Unidades': ['sum', 'max', 'min']\n",
    "}).round(2)\n",
    "print(analisis_region)"
   ],
   "id": "d21e0c6c496cc69b",
   "outputs": [],
   "execution_count": null
  },
  {
   "metadata": {},
   "cell_type": "code",
   "source": [
    "print(\"\\n📈 Resumen por producto:\")\n",
    "resumen_producto = df.groupby('Producto').agg({\n",
    "    'Ventas': ['sum', 'mean'],\n",
    "    'Unidades': 'sum'\n",
    "}).round(2)\n",
    "print(resumen_producto)"
   ],
   "id": "a35ea84347a57f34",
   "outputs": [],
   "execution_count": null
  },
  {
   "metadata": {},
   "cell_type": "markdown",
   "source": "## 4. Pivoteo de datos",
   "id": "9f8b28629e01f6cc"
  },
  {
   "metadata": {},
   "cell_type": "code",
   "source": [
    "# Crear tabla pivote: Regiones vs Productos (suma de ventas)\n",
    "print(\"🔄 Tabla pivote - Ventas por Región y Producto:\")\n",
    "pivot_ventas = df.groupby(['Región', 'Producto'])['Ventas'].sum().unstack(fill_value=0)\n",
    "print(pivot_ventas)"
   ],
   "id": "41a41387cb5339ed",
   "outputs": [],
   "execution_count": null
  },
  {
   "metadata": {},
   "cell_type": "code",
   "source": [
    "print(\"\\n🔄 Tabla pivote - Unidades por Mes y Región:\")\n",
    "pivot_unidades = df.groupby(['Mes', 'Región'])['Unidades'].sum().unstack(fill_value=0)\n",
    "print(pivot_unidades)"
   ],
   "id": "b4a141f81e35a6bf",
   "outputs": [],
   "execution_count": null
  },
  {
   "metadata": {},
   "cell_type": "markdown",
   "source": "## 5. Despivoteo de datos",
   "id": "18b3fb32e4c0a617"
  },
  {
   "metadata": {},
   "cell_type": "code",
   "source": [
    "# Despivotear la tabla anterior\n",
    "print(\"🔄 Despivoteo de la tabla de ventas:\")\n",
    "df_melted = pivot_ventas.reset_index().melt(\n",
    "    id_vars=['Región'],\n",
    "    var_name='Producto',\n",
    "    value_name='Ventas_Total'\n",
    ")\n",
    "print(df_melted[df_melted['Ventas_Total'] > 0])  # Solo mostrar valores > 0"
   ],
   "id": "f1231ec6ebc7b21e",
   "outputs": [],
   "execution_count": null
  },
  {
   "metadata": {},
   "cell_type": "code",
   "source": [
    "print(\"\\n🔄 Despivoteo completo del DataFrame original:\")\n",
    "df_melt_completo = df.melt(\n",
    "    id_vars=['Región', 'Producto', 'Mes'],\n",
    "    value_vars=['Ventas', 'Unidades'],\n",
    "    var_name='Métrica',\n",
    "    value_name='Valor'\n",
    ")\n",
    "print(df_melt_completo.head(8))"
   ],
   "id": "1e86ef1d9f61fd9f",
   "outputs": [],
   "execution_count": null
  },
  {
   "metadata": {},
   "cell_type": "markdown",
   "source": "## 6. Combinación de datos",
   "id": "6552fcced370a13"
  },
  {
   "metadata": {},
   "cell_type": "code",
   "source": [
    "# Crear DataFrames adicionales para demostrar combinaciones\n",
    "df1 = df[df['Región'] == 'Centro'][['Región', 'Producto', 'Ventas']].head(3)\n",
    "df2 = df[df['Región'] == 'Norte'][['Región', 'Producto', 'Ventas']].head(3)\n",
    "\n",
    "print(\"DataFrame 1 (Centro):\")\n",
    "print(df1)\n",
    "print(\"\\nDataFrame 2 (Norte):\")\n",
    "print(df2)"
   ],
   "id": "fd55908fe574c0be",
   "outputs": [],
   "execution_count": null
  },
  {
   "metadata": {},
   "cell_type": "code",
   "source": [
    "# CONCATENACIÓN\n",
    "print(\"\\nCONCATENACIÓN con concat():\")\n",
    "df_concat = pd.concat([df1, df2], ignore_index=True)\n",
    "print(df_concat)"
   ],
   "id": "7b6b4f54d0542fae",
   "outputs": [],
   "execution_count": null
  },
  {
   "metadata": {},
   "cell_type": "code",
   "source": [
    "# Crear DataFrame de información adicional para merge\n",
    "info_productos = pd.DataFrame({\n",
    "    'Producto': ['A', 'B', 'C'],\n",
    "    'Categoría': ['Electrónicos', 'Ropa', 'Hogar'],\n",
    "    'Precio_Unitario': [25.50, 80.00, 45.75]\n",
    "})\n",
    "\n",
    "print(\"DataFrame de información de productos:\")\n",
    "print(info_productos)"
   ],
   "id": "7722941080eef6be",
   "outputs": [],
   "execution_count": null
  },
  {
   "metadata": {},
   "cell_type": "code",
   "source": [
    "# MERGE - diferentes tipos de uniones\n",
    "print(\"\\nMERGE - Unión INNER:\")\n",
    "df_inner = df.merge(info_productos, on='Producto', how='inner')\n",
    "print(df_inner[['Región', 'Producto', 'Ventas', 'Categoría', 'Precio_Unitario']].head(5))"
   ],
   "id": "40df06d185731a69",
   "outputs": [],
   "execution_count": null
  },
  {
   "metadata": {},
   "cell_type": "code",
   "source": [
    "print(\"\\nMERGE - Unión LEFT:\")\n",
    "df_left = df.merge(info_productos, on='Producto', how='left')\n",
    "print(f\"Filas originales: {len(df)}, Filas después del merge: {len(df_left)}\")"
   ],
   "id": "422f5360b4880b10",
   "outputs": [],
   "execution_count": null
  },
  {
   "metadata": {},
   "cell_type": "code",
   "source": [
    "# Ejemplo práctico: Calcular ingresos totales\n",
    "print(\"\\nEJEMPLO PRÁCTICO - Cálculo de ingresos:\")\n",
    "df_ingresos = df.merge(info_productos, on='Producto', how='left')\n",
    "df_ingresos['Ingresos_Calculados'] = df_ingresos['Unidades'] * df_ingresos['Precio_Unitario']\n",
    "df_ingresos[['Región', 'Producto', 'Mes', 'Ventas', 'Unidades', 'Precio_Unitario', 'Ingresos_Calculados']].head()"
   ],
   "id": "aaa9d32ddfea6815",
   "outputs": [],
   "execution_count": null
  }
 ],
 "metadata": {
  "kernelspec": {
   "display_name": "Python [conda env:base] *",
   "language": "python",
   "name": "conda-base-py"
  },
  "language_info": {
   "codemirror_mode": {
    "name": "ipython",
    "version": 2
   },
   "file_extension": ".py",
   "mimetype": "text/x-python",
   "name": "python",
   "nbconvert_exporter": "python",
   "pygments_lexer": "ipython2",
   "version": "2.7.6"
  }
 },
 "nbformat": 4,
 "nbformat_minor": 5
}
