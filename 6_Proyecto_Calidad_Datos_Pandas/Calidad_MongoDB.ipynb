{
 "cells": [
  {
   "metadata": {},
   "cell_type": "markdown",
   "source": [
    "## 📚 Importación de librerías necesarias\n",
    "\n",
    "Importación de la librería Pandas para el DataWranling y también de la librería MongoClient para la conexión a la BD almacenada en MongoDB"
   ],
   "id": "e74b05581201ab1d"
  },
  {
   "cell_type": "code",
   "id": "initial_id",
   "metadata": {
    "collapsed": true
   },
   "source": [
    "import pandas as pd\n",
    "import pymongo as pm\n",
    "from pymongo import MongoClient as mongo\n",
    "\n",
    "print(F\"✅ ¡Pandas importado correctamente! Versión instalada = {pd.__version__}\")\n",
    "print(F\"✅ ¡MongoDB importado correctamente! Versión instalada = {pm.__version__}\")"
   ],
   "outputs": [],
   "execution_count": null
  },
  {
   "metadata": {},
   "cell_type": "markdown",
   "source": [
    "## 🖥️ Conectar a MongoDB y extracción de datos\n",
    "\n",
    "Utilización del controlador (driver) para conectarme a MongoDB y extraer los datos en un DataFrame."
   ],
   "id": "67aa74c158dccde7"
  },
  {
   "metadata": {},
   "cell_type": "code",
   "source": [
    "# Almacenar la conexión a MongoDB en una variable\n",
    "cliente = mongo(\"mongodb://localhost:27017/\")\n",
    "\n",
    "# Seleccionar la base de datos y la colección\n",
    "db = cliente[\"calidad_datos\"]\n",
    "coleccion = db[\"clientes_calidad\"]\n",
    "\n",
    "# Obtener todos los registros dentro de la tabla y guardarlos como una lista de diccionarios\n",
    "registros = list(coleccion.find())\n",
    "\n",
    "# Convertir todos los registros a un DataFrame para su tratamiento eliminado el atributo \"_id\"\n",
    "df = pd.DataFrame(registros)\n",
    "df.drop(columns=[\"_id\"], inplace=True)\n",
    "df.head()"
   ],
   "id": "b0b2041b3fc533f",
   "outputs": [],
   "execution_count": null
  },
  {
   "metadata": {},
   "cell_type": "markdown",
   "source": [
    "## ✅ 1) DIMENSIÓN: Completitud\n",
    "\n",
    "Revisar que los datos realmente tengan valores, que estén presentes, ver si hay valores perdidos, nulos, etc.\n",
    "\n",
    "### 🔸 A. Revisión general de nulos\n",
    "\n",
    "Esto ayuda a tener una vista rápida de la completitud de los datos."
   ],
   "id": "2eb0fd7bd6e8e1b0"
  },
  {
   "metadata": {},
   "cell_type": "code",
   "source": [
    "# Ver cuántos nulos hay por columna\n",
    "df.isna().sum()"
   ],
   "id": "b33c934a52c51dca",
   "outputs": [],
   "execution_count": null
  },
  {
   "metadata": {},
   "cell_type": "markdown",
   "source": [
    "### 🔸 B. Detectar campos vacíos o en blanco (solo espacios)\n",
    "\n",
    "Aquí usamos .str.strip() para eliminar espacios en blanco antes de evaluar si el campo está efectivamente vacío."
   ],
   "id": "cc18e9f6669d2e5a"
  },
  {
   "metadata": {},
   "cell_type": "code",
   "source": [
    "# Detectar campos vacíos, o en blanco, que sean solo espacio\n",
    "df[df[\"nombre\"].isna() | (df[\"nombre\"].str.strip() == \"\")]"
   ],
   "id": "7e08df80547cd46",
   "outputs": [],
   "execution_count": null
  },
  {
   "metadata": {},
   "cell_type": "code",
   "source": "df[df[\"email\"].isna() | (df[\"email\"].str.strip() == \"\")]",
   "id": "e90021510ed970ba",
   "outputs": [],
   "execution_count": null
  },
  {
   "metadata": {},
   "cell_type": "code",
   "source": "df[df[\"telefono\"].isna() | (df[\"telefono\"].astype(str).str.strip() == \"\")]",
   "id": "f2e9ae9618758224",
   "outputs": [],
   "execution_count": null
  },
  {
   "metadata": {},
   "cell_type": "markdown",
   "source": [
    "### 🔸 C. Identificar registros sin ningún atributo útil\n",
    "\n",
    "Acá se definen columnas críticas y se buscan registros vacíos en ellas."
   ],
   "id": "a46565cf3bf3067"
  },
  {
   "metadata": {},
   "cell_type": "code",
   "source": [
    "# Identificar registros completos sin ningún atributo útil\n",
    "# Definir las columnas críticas que voy a evaluar\n",
    "columnas_criticas = [\"nombre\",\"email\",\"telefono\",\"cliente_id\"]\n",
    "\n",
    "# Buscar registros completamente vacíos en estas columnas\n",
    "df[df[columnas_criticas].isna().all(axis=1)]"
   ],
   "id": "dae27198c9b9b7ef",
   "outputs": [],
   "execution_count": null
  },
  {
   "metadata": {},
   "cell_type": "markdown",
   "source": [
    "## ✅ 2) DIMENSIÓN: Validez\n",
    "\n",
    "Validación de formatos y tipos.\n",
    "\n",
    "### 🔸 A. Validación de formato de correo electrónico\n",
    "\n",
    "Una verificación básica podría ser revisar que el email contenga un @ y un ."
   ],
   "id": "7c10d6503ca18fe2"
  },
  {
   "metadata": {},
   "cell_type": "code",
   "source": [
    "# Validar el formato del correo electrónico\n",
    "# Filtrar los registros con email NO NULO\n",
    "emails_no_nulos = df[\"email\"].dropna()\n",
    "\n",
    "# Aplicar una condición sobre los emails NO NULOS (válidos)\n",
    "condicion = ~emails_no_nulos.str.contains(\"@\") | ~emails_no_nulos.str.contains(r\"\\.\")\n",
    "\n",
    "# Mostrar los registros que tengan formato incorrecto\n",
    "df.loc[emails_no_nulos[condicion].index]"
   ],
   "id": "d5cefe2f693aa9be",
   "outputs": [],
   "execution_count": null
  },
  {
   "metadata": {},
   "cell_type": "markdown",
   "source": [
    "### 🔸 B. Validar formato de teléfono\n",
    "\n",
    "Esto permite identificar errores como abc123 o 123."
   ],
   "id": "6b798856cd9f128c"
  },
  {
   "metadata": {},
   "cell_type": "code",
   "source": [
    "# Detectar teléfonos que contienen letras o símbolos (deben ser numéricos)\n",
    "df[df[\"telefono\"].notna() & (~df[\"telefono\"].astype(str).str.isnumeric())]"
   ],
   "id": "ad5727dfba5348f9",
   "outputs": [],
   "execution_count": null
  },
  {
   "metadata": {},
   "cell_type": "code",
   "source": [
    "# Detectar teléfonos demasiado cortos o largos\n",
    "df[df[\"telefono\"].notna() & (df[\"telefono\"].astype(str).str.len() < 8)]"
   ],
   "id": "48a19f3736b76c54",
   "outputs": [],
   "execution_count": null
  },
  {
   "metadata": {},
   "cell_type": "markdown",
   "source": [
    "### 🔸 C. Validar formato de fechas (fecha_nacimiento y ultima_actualizacion)\n",
    "\n",
    "Esto detecta fechas con formatos incorrectos como 02/11/1990 si no siguen un patrón ISO."
   ],
   "id": "d53ad28cef08fd04"
  },
  {
   "metadata": {},
   "cell_type": "code",
   "source": [
    "# Intentar convertir fecha_nacimiento a datetime\n",
    "df[\"fecha_valida\"] = pd.to_datetime(df[\"fecha_nacimiento\"], errors=\"coerce\")\n",
    "\n",
    "# Mostrar registros con fechas inválidas\n",
    "df[df[\"fecha_nacimiento\"].notna() & df[\"fecha_valida\"].isna()]"
   ],
   "id": "29ab81d7dfaefdb8",
   "outputs": [],
   "execution_count": null
  },
  {
   "metadata": {},
   "cell_type": "code",
   "source": [
    "df[\"ultima_actualizacion_valida\"] = pd.to_datetime(df[\"ultima_actualizacion\"], errors=\"coerce\")\n",
    "\n",
    "df[df[\"ultima_actualizacion\"].notna() & df[\"ultima_actualizacion_valida\"].isna()]"
   ],
   "id": "df3d0738feec37af",
   "outputs": [],
   "execution_count": null
  },
  {
   "metadata": {},
   "cell_type": "markdown",
   "source": [
    "### 🔸 D. Validar valores permitidos en campo estado\n",
    "\n",
    "Aquí puedes identificar valores como True, 1, \"Activo\" (con mayúsculas), etc."
   ],
   "id": "2bd4d9307ff38aef"
  },
  {
   "metadata": {},
   "cell_type": "code",
   "source": [
    "# Mostrar valores únicos para detectar inconsistencias\n",
    "df[\"estado\"].value_counts(dropna=False)"
   ],
   "id": "1b310bba05b559aa",
   "outputs": [],
   "execution_count": null
  },
  {
   "metadata": {},
   "cell_type": "code",
   "source": [
    "# Ver registros con valores inesperados\n",
    "valores_validos = [\"activo\", \"inactivo\"]\n",
    "df[~df[\"estado\"].astype(str).str.lower().isin(valores_validos)]"
   ],
   "id": "60aa07608990b519",
   "outputs": [],
   "execution_count": null
  },
  {
   "metadata": {},
   "cell_type": "markdown",
   "source": [
    "## ✅ 3) DIMENSIÓN: Consistencia\n",
    "\n",
    "Evalúa si los datos tienen sentido lógico o representan correctamente lo que dicen.\n",
    "\n",
    "### 🔸 A. Validación de consistencia en la región\n",
    "\n",
    "Verificar valores distintos que significan lo mismo (\"RM\" vs \"Región Metropolitana\")."
   ],
   "id": "96e712edb9e3cf81"
  },
  {
   "metadata": {},
   "cell_type": "code",
   "source": [
    "# Mostrar todos los valores únicos de la columna región\n",
    "df[\"region\"].value_counts(dropna=False)"
   ],
   "id": "1efe06b2ca163d68",
   "outputs": [],
   "execution_count": null
  },
  {
   "metadata": {},
   "cell_type": "code",
   "source": [
    "# Identificar registros que podrían tener valores equivalentes en \"region\"\n",
    "inconsistencias_region = df[df[\"region\"].isin([\"RM\", \"Región Metropolitana\"])]\n",
    "inconsistencias_region"
   ],
   "id": "52bb215920f15dd9",
   "outputs": [],
   "execution_count": null
  },
  {
   "metadata": {},
   "cell_type": "markdown",
   "source": [
    "### 🔸 B. Detectar direcciones escritas de distintas formas\n",
    "\n",
    "Filtrar registros con direcciones que empiecen con \"Av.\" o \"Avenida\"."
   ],
   "id": "c0662c5e7ebc07fb"
  },
  {
   "metadata": {},
   "cell_type": "code",
   "source": [
    "# Filtrar registros con direcciones que empiecen con \"Av.\" o \"Avenida\"\n",
    "inconsistencias_direccion = df[df[\"direccion\"].astype(str).str.contains(r\"^(?:Av\\.|Avenida)\", case=False, na=False)]\n",
    "inconsistencias_direccion"
   ],
   "id": "e32a2b96cd52cac5",
   "outputs": [],
   "execution_count": null
  },
  {
   "metadata": {},
   "cell_type": "markdown",
   "source": [
    "### 🔸 C. Detectar abreviaturas comunes en direcciones\n",
    "\n",
    "Buscar patrones de abreviaturas que puedan requerir estandarización futura."
   ],
   "id": "bd6c0a464e494e74"
  },
  {
   "metadata": {},
   "cell_type": "code",
   "source": [
    "patrones_direccion = df[\"direccion\"].dropna().str.extract(r\"^(?:Av\\.|Avenida)\", expand=False).value_counts()\n",
    "patrones_direccion"
   ],
   "id": "865943fe820c01dc",
   "outputs": [],
   "execution_count": null
  },
  {
   "metadata": {},
   "cell_type": "markdown",
   "source": [
    "### 🔸 D. Revisión de valores únicos en estado\n",
    "\n",
    "Filtra todos los registros únicos del campo estado para detectar potenciales inconsistencias."
   ],
   "id": "d6de0767dcd61e11"
  },
  {
   "metadata": {},
   "cell_type": "code",
   "source": [
    "# Ver valores únicos del campo estado\n",
    "df[\"estado\"].value_counts(dropna=False)"
   ],
   "id": "6c8826bd460fe6ad",
   "outputs": [],
   "execution_count": null
  },
  {
   "metadata": {},
   "cell_type": "markdown",
   "source": [
    "### 🔸 E. Búsqueda de inconsistencias en estado\n",
    "\n",
    "Detección de valores inconsistentes en el estado de los registros."
   ],
   "id": "9e83ac24cd657815"
  },
  {
   "metadata": {},
   "cell_type": "code",
   "source": [
    "# Queremos detectar casos donde el estado no esté en los valores esperados (\"activo\" o \"inactivo\")\n",
    "# pero que aún así representen el mismo concepto (por ejemplo: True, 1, \"Activo\")\n",
    "valores_validos = [\"activo\", \"inactivo\"]\n",
    "\n",
    "# Convertir todo a string en minúsculas para compararlo con los valores esperados\n",
    "inconsistencias_estado = df[\n",
    "    df[\"estado\"].notna() &\n",
    "    ~df[\"estado\"].astype(str).str.lower().isin(valores_validos)\n",
    "]\n",
    "inconsistencias_estado"
   ],
   "id": "4d3fcc81fa7d4495",
   "outputs": [],
   "execution_count": null
  },
  {
   "metadata": {},
   "cell_type": "code",
   "source": [
    "# Analizar cuántos registros presentan estas inconsistencias\n",
    "inconsistencias_estado[\"estado\"].value_counts()"
   ],
   "id": "2679ea5e1c1d7755",
   "outputs": [],
   "execution_count": null
  },
  {
   "metadata": {},
   "cell_type": "markdown",
   "source": [
    "## ✅ 4) DIMENSIÓN: Unicidad\n",
    "\n",
    "Detección de problemas de unicidad en el DataFrame en campos como cliente_id, nombre y email\n",
    "\n",
    "### 🔸 A. Verificar duplicados en cliente_id\n",
    "\n",
    "Verificar duplicados en la clave primaria: cliente_id."
   ],
   "id": "492a6c22780dd848"
  },
  {
   "metadata": {},
   "cell_type": "code",
   "source": [
    "# Verificar duplicados en la clave primaria: cliente_id\n",
    "duplicados_cliente_id = df[df.duplicated(subset=[\"cliente_id\"], keep=False)]\n",
    "duplicados_cliente_id"
   ],
   "id": "37e6c621e46ea784",
   "outputs": [],
   "execution_count": null
  },
  {
   "metadata": {},
   "cell_type": "markdown",
   "source": [
    "### 🔸 B. Verificar posibles duplicados en nombre\n",
    "\n",
    "Buscar nombres exactos duplicados."
   ],
   "id": "c31839204a8415d3"
  },
  {
   "metadata": {},
   "cell_type": "code",
   "outputs": [],
   "execution_count": null,
   "source": [
    "# Buscar nombres exactos duplicados\n",
    "duplicados_nombre_exactos = df[df.duplicated(subset=[\"nombre\"], keep=False)]\n",
    "duplicados_nombre_exactos\n",
    "\n",
    "# Opcional: detectar similitudes de nombres (ej. 'Juan Pérez' vs 'Juan Perez')\n",
    "# Esto no es un duplicado exacto, pero sirve para análisis exploratorio\n",
    "# (más adelante en Wrangling se podrían usar librerías como fuzzywuzzy)\n",
    "nombres_similares = df[\"nombre\"].str.lower().value_counts()\n",
    "nombres_similares[nombres_similares > 1]"
   ],
   "id": "b939870db29c6132"
  },
  {
   "metadata": {},
   "cell_type": "markdown",
   "source": [
    "### 🔸 C. Verificar posibles duplicados en email\n",
    "\n",
    "Buscar email exactos duplicados."
   ],
   "id": "cc73eaa7d3ca6d25"
  },
  {
   "metadata": {},
   "cell_type": "code",
   "outputs": [],
   "execution_count": null,
   "source": [
    "# Buscar duplicados exactos de email\n",
    "duplicados_email = df[df.duplicated(subset=[\"email\"], keep=False) & df[\"email\"].notna()]\n",
    "duplicados_email"
   ],
   "id": "dbd78c6da7274a05"
  },
  {
   "metadata": {},
   "cell_type": "markdown",
   "source": [
    "## ✅ 5) DIMENSIÓN: Actualidad\n",
    "\n",
    "Revisión de los datos con fechas para revisar la actualidad de los registros.\n",
    "\n",
    "### 🔸 A. Tratamiento del campo 'ultima_actualizacion' previo al análisis\n",
    "\n",
    "Convertir la columna 'ultima_actualizacion' a datetime."
   ],
   "id": "85407f55a2bc1f5d"
  },
  {
   "metadata": {},
   "cell_type": "code",
   "outputs": [],
   "execution_count": null,
   "source": [
    "from datetime import datetime\n",
    "\n",
    "# Convertir la columna 'ultima_actualizacion' a datetime\n",
    "df[\"ultima_actualizacion_valida\"] = pd.to_datetime(df[\"ultima_actualizacion\"], errors=\"coerce\")\n",
    "\n",
    "# Definir umbral de \"desactualización\" (por ejemplo: antes de 2018)\n",
    "fecha_umbral = pd.Timestamp(\"2018-01-01\")\n",
    "\n",
    "# Filtrar registros desactualizados\n",
    "registros_desactualizados = df[df[\"ultima_actualizacion_valida\"].notna() & (df[\"ultima_actualizacion_valida\"] < fecha_umbral)]\n",
    "registros_desactualizados"
   ],
   "id": "b1179452eae742e5"
  },
  {
   "metadata": {},
   "cell_type": "markdown",
   "source": [
    "### 🔸 B. Calcular la antiguedad de los registros\n",
    "\n",
    "Determinar en años la antiguedad de aquellos registros con datos."
   ],
   "id": "1739245416bbef66"
  },
  {
   "metadata": {},
   "cell_type": "code",
   "outputs": [],
   "execution_count": null,
   "source": [
    "# Calcular la antigüedad en años de cada registro\n",
    "df[\"antiguedad_ultima_actualizacion\"] = (datetime.now() - df[\"ultima_actualizacion_valida\"]).dt.days / 365\n",
    "df[[\"cliente_id\", \"nombre\", \"ultima_actualizacion\", \"antiguedad_ultima_actualizacion\"]]"
   ],
   "id": "2fa4abbbe3aaf33c"
  },
  {
   "metadata": {},
   "cell_type": "code",
   "outputs": [],
   "execution_count": null,
   "source": [
    "# Identificar registros sin fecha de actualización (posiblemente nunca actualizados)\n",
    "registros_sin_actualizacion = df[df[\"ultima_actualizacion_valida\"].isna()]\n",
    "registros_sin_actualizacion"
   ],
   "id": "1b320b6f99cf6b09"
  },
  {
   "metadata": {},
   "cell_type": "markdown",
   "source": [
    "## 🛠️ Plan de Data Wrangling\n",
    "\n",
    "### 1️⃣ Completitud\n",
    "Problema: Campos vacíos o nulos en nombre, email, telefono y registros con información incompleta.\n",
    "\n",
    "### 2️⃣ Validez\n",
    "Problema: Formatos incorrectos en email, telefono y fechas.\n",
    "\n",
    "### 3️⃣ Consistencia\n",
    "Problema: Valores que significan lo mismo pero con formatos distintos (\"RM\" vs \"Región Metropolitana\", \"Activo\" vs True).\n",
    "\n",
    "### 4️⃣ Unicidad\n",
    "Problema: Duplicados en cliente_id, nombre y email.\n",
    "\n",
    "### 5️⃣ Actualidad\n",
    "Problema: Registros sin fecha de actualización o con datos antiguos."
   ],
   "id": "a1f7f611b2404b3b"
  },
  {
   "metadata": {},
   "cell_type": "markdown",
   "source": [
    "## 🛠 Data Wrangling\n",
    "\n",
    "### 1️⃣ Completitud"
   ],
   "id": "990101ae91c4a56d"
  },
  {
   "metadata": {},
   "cell_type": "code",
   "outputs": [],
   "execution_count": null,
   "source": [
    "# Reemplazar valores nulos o vacíos con texto estándar\n",
    "df[\"nombre\"] = df[\"nombre\"].fillna(\"desconocido\").str.strip()\n",
    "df[\"email\"] = df[\"email\"].fillna(\"no_disponible\").str.strip()\n",
    "df[\"telefono\"] = df[\"telefono\"].fillna(\"no_disponible\").astype(str).str.strip()\n",
    "\n",
    "# Reemplazar valores vacíos (solo espacios) por \"desconocido\" o \"no_disponible\"\n",
    "df.loc[df[\"nombre\"] == \"\", \"nombre\"] = \"desconocido\"\n",
    "df.loc[df[\"email\"] == \"\", \"email\"] = \"no_disponible\"\n",
    "df.loc[df[\"telefono\"] == \"\", \"telefono\"] = \"no_disponible\"\n",
    "\n",
    "# Identificar registros sin datos críticos (cliente_id vacío)\n",
    "registros_sin_cliente_id = df[df[\"cliente_id\"].isna()]\n",
    "if not registros_sin_cliente_id.empty:\n",
    "    print(\"Registros sin cliente_id detectados:\", len(registros_sin_cliente_id))"
   ],
   "id": "156f4c5e2032c7e5"
  },
  {
   "metadata": {},
   "cell_type": "markdown",
   "source": [
    "## 🛠 Data Wrangling\n",
    "\n",
    "### 2️⃣ Validez"
   ],
   "id": "89aee582bb04d5d8"
  },
  {
   "metadata": {},
   "cell_type": "code",
   "outputs": [],
   "execution_count": null,
   "source": [
    "import re\n",
    "\n",
    "# Normalizar emails inválidos\n",
    "patron_email = r\"^[\\w\\.-]+@[\\w\\.-]+\\.\\w+$\"\n",
    "df.loc[~df[\"email\"].str.match(patron_email, na=False), \"email\"] = \"email_invalido\"\n",
    "\n",
    "# Limpiar teléfonos no numéricos o absurdos\n",
    "df.loc[~df[\"telefono\"].str.isnumeric(), \"telefono\"] = \"telefono_invalido\"\n",
    "df.loc[df[\"telefono\"].str.len() < 8, \"telefono\"] = \"telefono_invalido\"\n",
    "df.loc[df[\"telefono\"].str.len() > 12, \"telefono\"] = \"telefono_invalido\"\n",
    "\n",
    "# Normalizar fechas de nacimiento y última actualización\n",
    "df[\"fecha_nacimiento\"] = pd.to_datetime(df[\"fecha_nacimiento\"], errors=\"coerce\")\n",
    "df[\"ultima_actualizacion\"] = pd.to_datetime(df[\"ultima_actualizacion\"], errors=\"coerce\")\n",
    "\n",
    "# Validar rut simple (si existe columna rut)\n",
    "if \"rut\" in df.columns:\n",
    "    df.loc[~df[\"rut\"].astype(str).str.match(r\"^\\d{1,2}\\.\\d{3}\\.\\d{3}-[0-9KkXx]$\", na=False), \"rut\"] = \"rut_invalido\""
   ],
   "id": "8945040288bf2471"
  },
  {
   "metadata": {},
   "cell_type": "markdown",
   "source": [
    "## 🛠 Data Wrangling\n",
    "\n",
    "### 3️⃣ Consistencia"
   ],
   "id": "39cdbf9a52fd23fa"
  },
  {
   "metadata": {},
   "cell_type": "code",
   "outputs": [],
   "execution_count": null,
   "source": [
    "# Normalizar región\n",
    "region_map = {\n",
    "    \"RM\": \"Región Metropolitana\",\n",
    "    \"rm\": \"Región Metropolitana\"\n",
    "}\n",
    "df[\"region\"] = df[\"region\"].replace(region_map)\n",
    "\n",
    "# Normalizar estado\n",
    "estado_map = {\n",
    "    \"activo\": \"activo\",\n",
    "    \"inactivo\": \"inactivo\",\n",
    "    \"true\": \"activo\",\n",
    "    \"1\": \"activo\",\n",
    "    \"false\": \"inactivo\",\n",
    "    \"0\": \"inactivo\"\n",
    "}\n",
    "df[\"estado\"] = df[\"estado\"].astype(str).str.lower().replace(estado_map)\n",
    "\n",
    "# Estandarizar direcciones (\"Av.\" -> \"Avenida\")\n",
    "df[\"direccion\"] = df[\"direccion\"].astype(str).str.replace(r\"^Av\\.\", \"Avenida\", case=False, regex=True)"
   ],
   "id": "be5469e1991acf9a"
  },
  {
   "metadata": {},
   "cell_type": "markdown",
   "source": [
    "## 🛠 Data Wrangling\n",
    "\n",
    "### 4️⃣ Unicidad"
   ],
   "id": "df78894eb65d8dff"
  },
  {
   "metadata": {},
   "cell_type": "code",
   "outputs": [],
   "execution_count": null,
   "source": [
    "# Eliminar duplicados en cliente_id conservando el primero\n",
    "df = df.drop_duplicates(subset=[\"cliente_id\"], keep=\"first\")\n",
    "\n",
    "# Detectar duplicados exactos de email y marcarlos\n",
    "duplicados_email = df[df.duplicated(subset=[\"email\"], keep=False) & df[\"email\"].notna()]\n",
    "if not duplicados_email.empty:\n",
    "    print(\"⚠️ Emails duplicados detectados:\", duplicados_email[\"email\"].nunique())\n",
    "\n",
    "# Detectar posibles duplicados de nombre\n",
    "duplicados_nombre = df[df.duplicated(subset=[\"nombre\"], keep=False)]\n",
    "if not duplicados_nombre.empty:\n",
    "    print(\"⚠️ Nombres duplicados detectados:\", duplicados_nombre[\"nombre\"].nunique())"
   ],
   "id": "a48c930305609ac"
  },
  {
   "metadata": {},
   "cell_type": "markdown",
   "source": [
    "## 🛠 Data Wrangling\n",
    "\n",
    "### 5️⃣ Actualidad"
   ],
   "id": "d6653e630bff1468"
  },
  {
   "metadata": {},
   "cell_type": "code",
   "outputs": [],
   "execution_count": null,
   "source": [
    "# Crear columna para marcar registros desactualizados\n",
    "fecha_umbral = pd.Timestamp(\"2018-01-01\")\n",
    "df[\"desactualizado\"] = df[\"ultima_actualizacion\"].apply(lambda x: \"sí\" if pd.notna(x) and x < fecha_umbral else \"no\")\n",
    "\n",
    "# Marcar registros sin fecha\n",
    "df[\"desactualizado\"] = df[\"desactualizado\"].mask(df[\"ultima_actualizacion\"].isna(), \"sin_actualizacion\")\n",
    "\n",
    "# Recalcular antigüedad en años\n",
    "df[\"antiguedad_ultima_actualizacion\"] = (pd.Timestamp.now() - df[\"ultima_actualizacion\"]).dt.days / 365"
   ],
   "id": "f1839bbfffc842ca"
  }
 ],
 "metadata": {
  "kernelspec": {
   "display_name": "Python [conda env:base] *",
   "language": "python",
   "name": "conda-base-py"
  },
  "language_info": {
   "codemirror_mode": {
    "name": "ipython",
    "version": 2
   },
   "file_extension": ".py",
   "mimetype": "text/x-python",
   "name": "python",
   "nbconvert_exporter": "python",
   "pygments_lexer": "ipython2",
   "version": "2.7.6"
  }
 },
 "nbformat": 4,
 "nbformat_minor": 5
}
