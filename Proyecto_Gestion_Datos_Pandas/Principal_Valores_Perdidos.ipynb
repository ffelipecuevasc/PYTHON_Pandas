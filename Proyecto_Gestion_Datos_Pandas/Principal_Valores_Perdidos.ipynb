{
 "cells": [
  {
   "metadata": {},
   "cell_type": "markdown",
   "source": "## 1. Importar Bibliotecas Necesarias",
   "id": "32d26aa4ea6d0e6f"
  },
  {
   "metadata": {
    "ExecuteTime": {
     "end_time": "2025-06-25T21:31:42.045512Z",
     "start_time": "2025-06-25T21:31:41.920750Z"
    }
   },
   "cell_type": "code",
   "source": [
    "import pandas as pd\n",
    "import numpy as np\n",
    "import matplotlib.pyplot as plt\n",
    "import seaborn\n",
    "import seaborn as sns\n",
    "from scipy import stats\n",
    "import warnings\n",
    "\n",
    "warnings.filterwarnings('ignore')\n",
    "\n",
    "print(F\"✅ Versión instalada de Pandas = {pd.__version__}\")\n",
    "print(F\"✅ Versión instalada de Numpy = {np.__version__}\")\n",
    "print(F\"✅ Versión instalada de Matplotlib = {plt.matplotlib.__version__}\")\n",
    "print(F\"✅ Versión instalada de Seaborn = {seaborn.__version__}\")\n",
    "\n",
    "\n",
    "# Configuración para gráficos\n",
    "plt.style.use('default')\n",
    "sns.set_palette(\"husl\")"
   ],
   "id": "e0bd48220081a298",
   "outputs": [
    {
     "name": "stdout",
     "output_type": "stream",
     "text": [
      "✅ Versión instalada de Pandas = 2.2.2\n",
      "✅ Versión instalada de Numpy = 1.26.4\n",
      "✅ Versión instalada de Matplotlib = 3.9.2\n",
      "✅ Versión instalada de Seaborn = 0.13.2\n"
     ]
    }
   ],
   "execution_count": 21
  },
  {
   "metadata": {},
   "cell_type": "markdown",
   "source": "## 2. Creación de DataFrame con Valores Perdidos\n",
   "id": "4019a9150ec8418c"
  },
  {
   "metadata": {
    "ExecuteTime": {
     "end_time": "2025-06-25T21:31:44.398579Z",
     "start_time": "2025-06-25T21:31:44.383531Z"
    }
   },
   "cell_type": "code",
   "source": [
    "# Crear estructura de datos con valores NaN\n",
    "data = {\n",
    "    'Nombre': ['Ana', 'Carlos', 'María', np.nan, 'Sofia'],\n",
    "    'Edad': [25, np.nan, 30, 28, np.nan],\n",
    "    'Salario': [50000, 60000, np.nan, 55000, 65000],\n",
    "    'Departamento': ['IT', 'Ventas', np.nan, 'IT', 'Marketing']\n",
    "}\n",
    "\n",
    "# Generar el DataFrame\n",
    "df = pd.DataFrame(data)\n",
    "print(\"DataFrame con valores perdidos:\")\n",
    "print(df)"
   ],
   "id": "f8ff38b20eca0152",
   "outputs": [
    {
     "name": "stdout",
     "output_type": "stream",
     "text": [
      "DataFrame con valores perdidos:\n",
      "   Nombre  Edad  Salario Departamento\n",
      "0     Ana  25.0  50000.0           IT\n",
      "1  Carlos   NaN  60000.0       Ventas\n",
      "2   María  30.0      NaN          NaN\n",
      "3     NaN  28.0  55000.0           IT\n",
      "4   Sofia   NaN  65000.0    Marketing\n"
     ]
    }
   ],
   "execution_count": 22
  },
  {
   "metadata": {},
   "cell_type": "markdown",
   "source": "## 3. Identificación de Valores Perdidos\n",
   "id": "86103fc741f641a4"
  },
  {
   "metadata": {
    "ExecuteTime": {
     "end_time": "2025-06-25T21:31:46.787258Z",
     "start_time": "2025-06-25T21:31:46.768158Z"
    }
   },
   "cell_type": "code",
   "source": [
    "\"\"\"\n",
    "Detectar datos perdidos:\n",
    "\n",
    "- df.isnull() nos dice con True o False si falta algo.\n",
    "- df.isnull().sum() nos cuenta cuántos datos faltan por columna.\n",
    "- df.isnull().mean() nos dice qué porcentaje está vacío.\n",
    "- df.notnull() nos dice dónde sí hay datos.\n",
    "\"\"\"\n",
    "# Verificar valores nulos\n",
    "print(\"Valores nulos por columna:\")\n",
    "print(\"df.isnull():\")\n",
    "print(df.isnull())\n",
    "\n",
    "print(\"\\nConteo de valores nulos:\")\n",
    "print(\"df.isnull().sum():\")\n",
    "print(df.isnull().sum())\n",
    "\n",
    "print(\"\\nPorcentaje de valores nulos:\")\n",
    "print(\"df.isnull().mean():\")\n",
    "print(df.isnull().mean())\n",
    "\n",
    "print(\"\\nValores NO nulos:\")\n",
    "print(\"df.notnull().sum():\")\n",
    "print(df.notnull().sum())"
   ],
   "id": "dd9eb36fdafa5275",
   "outputs": [
    {
     "name": "stdout",
     "output_type": "stream",
     "text": [
      "Valores nulos por columna:\n",
      "df.isnull():\n",
      "   Nombre   Edad  Salario  Departamento\n",
      "0   False  False    False         False\n",
      "1   False   True    False         False\n",
      "2   False  False     True          True\n",
      "3    True  False    False         False\n",
      "4   False   True    False         False\n",
      "\n",
      "Conteo de valores nulos:\n",
      "df.isnull().sum():\n",
      "Nombre          1\n",
      "Edad            2\n",
      "Salario         1\n",
      "Departamento    1\n",
      "dtype: int64\n",
      "\n",
      "Porcentaje de valores nulos:\n",
      "df.isnull().mean():\n",
      "Nombre          0.2\n",
      "Edad            0.4\n",
      "Salario         0.2\n",
      "Departamento    0.2\n",
      "dtype: float64\n",
      "\n",
      "Valores NO nulos:\n",
      "df.notnull().sum():\n",
      "Nombre          4\n",
      "Edad            3\n",
      "Salario         4\n",
      "Departamento    4\n",
      "dtype: int64\n"
     ]
    }
   ],
   "execution_count": 23
  },
  {
   "metadata": {},
   "cell_type": "markdown",
   "source": "## 4. Visualización de Valores Perdidos",
   "id": "be34ef7cff0f7a62"
  },
  {
   "metadata": {
    "ExecuteTime": {
     "end_time": "2025-06-25T22:11:59.124825Z",
     "start_time": "2025-06-25T22:11:59.103254Z"
    }
   },
   "cell_type": "code",
   "source": [
    "\"\"\"\n",
    "Es mucho más fácil ver los problemas con imágenes:\n",
    "\n",
    "- Mapa de calor: muestra con colores dónde faltan datos.\n",
    "- Gráfico de barras: muestra qué columnas tienen más huecos.\n",
    "\"\"\"\n",
    "# Crear un DataFrame más grande para mejor visualización\n",
    "np.random.seed(42)\n",
    "data_large = {\n",
    "    'A': np.random.choice([1, 2, 3, np.nan], 100, p=[0.3, 0.3, 0.3, 0.1]),\n",
    "    'B': np.random.choice([10, 20, 30, np.nan], 100, p=[0.25, 0.25, 0.25, 0.25]),\n",
    "    'C': np.random.choice(['X', 'Y', 'Z', np.nan], 100, p=[0.4, 0.3, 0.2, 0.1])\n",
    "}\n",
    "df_large = pd.DataFrame(data_large)"
   ],
   "id": "377cf7b3d6978f17",
   "outputs": [],
   "execution_count": 24
  },
  {
   "metadata": {
    "ExecuteTime": {
     "end_time": "2025-06-25T22:12:03.021973Z",
     "start_time": "2025-06-25T22:12:02.775841Z"
    }
   },
   "cell_type": "code",
   "source": [
    "# Visualización con heatmap\n",
    "plt.figure(figsize=(10, 6))\n",
    "sns.heatmap(df_large.isnull(), cmap='viridis', cbar=True, yticklabels=False)\n",
    "plt.title('Mapa de Valores Perdidos')\n",
    "plt.show()"
   ],
   "id": "7bf577a409355015",
   "outputs": [
    {
     "data": {
      "text/plain": [
       "<Figure size 1000x600 with 2 Axes>"
      ],
      "image/png": "[encoded data removed]"
     },
     "metadata": {},
     "output_type": "display_data"
    }
   ],
   "execution_count": 25
  },
  {
   "metadata": {
    "ExecuteTime": {
     "end_time": "2025-06-25T22:14:16.204354Z",
     "start_time": "2025-06-25T22:14:16.017701Z"
    }
   },
   "cell_type": "code",
   "source": [
    "# Gráfico de barras de valores nulos\n",
    "\n",
    "plt.figure(figsize=(8, 5))\n",
    "df_large.isnull().sum().plot(kind='bar')\n",
    "plt.title('Conteo de Valores Nulos por Columna')\n",
    "plt.ylabel('Cantidad de Valores Nulos')\n",
    "plt.xticks(rotation=0)\n",
    "plt.show()"
   ],
   "id": "cba0ef0d664c5eb7",
   "outputs": [
    {
     "data": {
      "text/plain": [
       "<Figure size 800x500 with 1 Axes>"
      ],
      "image/png": "[encoded data removed]"
     },
     "metadata": {},
     "output_type": "display_data"
    }
   ],
   "execution_count": 26
  },
  {
   "metadata": {},
   "cell_type": "markdown",
   "source": "## 5. Filtrado de Datos Perdidos\n",
   "id": "c541b3d885727215"
  },
  {
   "metadata": {},
   "cell_type": "code",
   "source": [
    "\"\"\"\n",
    "A veces, lo más fácil es borrar lo que está incompleto:\n",
    "\n",
    "- dropna() elimina filas con valores vacíos.\n",
    "- dropna(axis=1) elimina columnas completas si tienen datos perdidos.\n",
    "- dropna(thresh=3) mantiene solo filas que tengan al menos 3 datos válidos.\n",
    "\"\"\"\n",
    "# Crear DataFrame de ejemplo\n",
    "df_filtro = df.copy()\n",
    "print(\"DataFrame original:\")\n",
    "print(df_filtro)"
   ],
   "id": "a653b26244566ac3",
   "outputs": [],
   "execution_count": null
  },
  {
   "metadata": {},
   "cell_type": "code",
   "source": [
    "# Eliminación de filas con valores NaN\n",
    "print(\"\\nEliminación de filas (dropna):\")\n",
    "df_sin_filas = df_filtro.dropna()\n",
    "print(df_sin_filas)"
   ],
   "id": "9864e02bdab6feb1",
   "outputs": [],
   "execution_count": null
  },
  {
   "metadata": {},
   "cell_type": "code",
   "source": [
    "# Eliminación de columnas con valores NaN\n",
    "print(\"\\nEliminación de columnas (dropna(axis=1)):\")\n",
    "df_sin_columnas = df_filtro.dropna(axis=1)\n",
    "print(df_sin_columnas)"
   ],
   "id": "4c1709a3cd0f43a7",
   "outputs": [],
   "execution_count": null
  },
  {
   "metadata": {},
   "cell_type": "code",
   "source": [
    "# Filtrado condicional - mantener filas con al menos 3 valores no nulos\n",
    "print(\"\\nFiltrado condicional (thresh=3):\")\n",
    "df_thresh = df_filtro.dropna(thresh=3)\n",
    "print(df_thresh)"
   ],
   "id": "141d846e5109314",
   "outputs": [],
   "execution_count": null
  },
  {
   "metadata": {},
   "cell_type": "markdown",
   "source": "## 6. Imputación con Valores Estadísticos\n",
   "id": "58fe281dae83d416"
  },
  {
   "metadata": {},
   "cell_type": "code",
   "source": [
    "\"\"\"\n",
    "Imputar es un término técnico que, en este contexto, significa rellenar o completar un dato que falta.\n",
    "Y \"con valores estadísticos\" significa que vamos a usar cálculos como el promedio, la mediana o la moda para decidir con qué valor rellenar esos datos faltantes.\n",
    "\n",
    "Si no queremos borrar nada, podemos adivinar un valor razonable:\n",
    "\n",
    "- mean() (promedio): ideal si los datos son parejos.\n",
    "- median() (valor del medio): mejor si hay números muy altos o bajos que podrían alterar el promedio.\n",
    "\"\"\"\n",
    "\n",
    "# Crear DataFrame para imputación\n",
    "df_imputacion = df.copy()\n",
    "print(\"DataFrame antes de imputación:\")\n",
    "print(df_imputacion)"
   ],
   "id": "40c4c913566eea73",
   "outputs": [],
   "execution_count": null
  },
  {
   "metadata": {
    "ExecuteTime": {
     "end_time": "2025-06-25T18:32:20.448005Z",
     "start_time": "2025-06-25T18:32:20.433522Z"
    }
   },
   "cell_type": "code",
   "source": [
    "# Imputación con la media\n",
    "print(f\"\\nMedia de Edad: {df_imputacion['Edad'].mean():.2f}\")\n",
    "df_imputacion['Edad'].fillna(df_imputacion['Edad'].mean(), inplace=True)"
   ],
   "id": "ffdae5b1a31d947b",
   "outputs": [
    {
     "name": "stdout",
     "output_type": "stream",
     "text": [
      "\n",
      "Media de Edad: 27.67\n"
     ]
    }
   ],
   "execution_count": 16
  },
  {
   "metadata": {
    "ExecuteTime": {
     "end_time": "2025-06-25T18:32:21.941846Z",
     "start_time": "2025-06-25T18:32:21.931114Z"
    }
   },
   "cell_type": "code",
   "source": [
    "# Imputación con la mediana\n",
    "print(f\"Mediana de Salario: {df_imputacion['Salario'].median():.2f}\")\n",
    "df_imputacion['Salario'].fillna(df_imputacion['Salario'].median(), inplace=True)\n",
    "\n",
    "print(\"\\nDataFrame después de imputación con media y mediana:\")\n",
    "print(df_imputacion)"
   ],
   "id": "6f53b04a690df4a6",
   "outputs": [
    {
     "name": "stdout",
     "output_type": "stream",
     "text": [
      "Mediana de Salario: 57500.00\n",
      "\n",
      "DataFrame después de imputación con media y mediana:\n",
      "   Nombre       Edad  Salario Departamento\n",
      "0     Ana  25.000000  50000.0           IT\n",
      "1  Carlos  27.666667  60000.0       Ventas\n",
      "2   María  30.000000  57500.0          NaN\n",
      "3     NaN  28.000000  55000.0           IT\n",
      "4   Sofia  27.666667  65000.0    Marketing\n"
     ]
    }
   ],
   "execution_count": 17
  },
  {
   "metadata": {},
   "cell_type": "markdown",
   "source": "## 7. Imputación de Valores Categóricos con la Moda\n",
   "id": "5ae4434ca0f63d0d"
  },
  {
   "metadata": {
    "ExecuteTime": {
     "end_time": "2025-06-25T18:33:44.765698Z",
     "start_time": "2025-06-25T18:33:44.743255Z"
    }
   },
   "cell_type": "code",
   "source": [
    "# Crear DataFrame con más datos categóricos\n",
    "data_cat = {\n",
    "    'Producto': ['Laptop', 'Smartphone', np.nan, 'Tablet', 'Laptop', np.nan, 'Laptop'],\n",
    "    'Marca': ['Apple', np.nan, 'Samsung', 'Apple', np.nan, 'Apple', 'Apple'],\n",
    "    'Precio': [1200, 800, 600, np.nan, 1300, 900, 1100]\n",
    "}\n",
    "df_cat = pd.DataFrame(data_cat)\n",
    "print(\"DataFrame categórico original:\")\n",
    "print(df_cat)\n",
    "\n",
    "# Calcular e imputar con la moda\n",
    "moda_producto = df_cat['Producto'].mode()[0]\n",
    "print(f\"\\nModa de Producto: {moda_producto}\")\n",
    "df_cat['Producto'].fillna(moda_producto, inplace=True)\n",
    "\n",
    "moda_marca = df_cat['Marca'].mode()[0]\n",
    "print(f\"Moda de Marca: {moda_marca}\")\n",
    "df_cat['Marca'].fillna(moda_marca, inplace=True)\n",
    "\n",
    "print(\"\\nDataFrame después de imputación con moda:\")\n",
    "print(df_cat)"
   ],
   "id": "3c778777dff61c0f",
   "outputs": [
    {
     "name": "stdout",
     "output_type": "stream",
     "text": [
      "DataFrame categórico original:\n",
      "     Producto    Marca  Precio\n",
      "0      Laptop    Apple  1200.0\n",
      "1  Smartphone      NaN   800.0\n",
      "2         NaN  Samsung   600.0\n",
      "3      Tablet    Apple     NaN\n",
      "4      Laptop      NaN  1300.0\n",
      "5         NaN    Apple   900.0\n",
      "6      Laptop    Apple  1100.0\n",
      "\n",
      "Moda de Producto: Laptop\n",
      "Moda de Marca: Apple\n",
      "\n",
      "DataFrame después de imputación con moda:\n",
      "     Producto    Marca  Precio\n",
      "0      Laptop    Apple  1200.0\n",
      "1  Smartphone    Apple   800.0\n",
      "2      Laptop  Samsung   600.0\n",
      "3      Tablet    Apple     NaN\n",
      "4      Laptop    Apple  1300.0\n",
      "5      Laptop    Apple   900.0\n",
      "6      Laptop    Apple  1100.0\n"
     ]
    }
   ],
   "execution_count": 18
  },
  {
   "metadata": {},
   "cell_type": "markdown",
   "source": "## 8. Imputación con Nueva Categoría\n",
   "id": "c38f22318e2f9868"
  },
  {
   "metadata": {
    "ExecuteTime": {
     "end_time": "2025-06-25T18:33:48.821178Z",
     "start_time": "2025-06-25T18:33:48.807918Z"
    }
   },
   "cell_type": "code",
   "source": [
    "# Crear copia para demostrar método alternativo\n",
    "df_nueva_cat = pd.DataFrame(data_cat)\n",
    "print(\"DataFrame original:\")\n",
    "print(df_nueva_cat)\n",
    "\n",
    "# Imputar con nueva categoría\n",
    "df_nueva_cat['Producto'].fillna('Desconocido', inplace=True)\n",
    "df_nueva_cat['Marca'].fillna('No especificado', inplace=True)\n",
    "\n",
    "print(\"\\nDataFrame con nueva categoría:\")\n",
    "print(df_nueva_cat)"
   ],
   "id": "b1162c205089e2ad",
   "outputs": [
    {
     "name": "stdout",
     "output_type": "stream",
     "text": [
      "DataFrame original:\n",
      "     Producto    Marca  Precio\n",
      "0      Laptop    Apple  1200.0\n",
      "1  Smartphone      NaN   800.0\n",
      "2         NaN  Samsung   600.0\n",
      "3      Tablet    Apple     NaN\n",
      "4      Laptop      NaN  1300.0\n",
      "5         NaN    Apple   900.0\n",
      "6      Laptop    Apple  1100.0\n",
      "\n",
      "DataFrame con nueva categoría:\n",
      "      Producto            Marca  Precio\n",
      "0       Laptop            Apple  1200.0\n",
      "1   Smartphone  No especificado   800.0\n",
      "2  Desconocido          Samsung   600.0\n",
      "3       Tablet            Apple     NaN\n",
      "4       Laptop  No especificado  1300.0\n",
      "5  Desconocido            Apple   900.0\n",
      "6       Laptop            Apple  1100.0\n"
     ]
    }
   ],
   "execution_count": 19
  },
  {
   "metadata": {},
   "cell_type": "markdown",
   "source": "## 9. Imputación Basada en Relaciones con Otras Variables\n",
   "id": "26fe4766c899dbcd"
  },
  {
   "metadata": {
    "ExecuteTime": {
     "end_time": "2025-06-25T18:33:51.885768Z",
     "start_time": "2025-06-25T18:33:51.823038Z"
    }
   },
   "cell_type": "code",
   "source": [
    "# Crear DataFrame con relaciones\n",
    "data_rel = {\n",
    "    'Departamento': ['IT', 'IT', 'Ventas', 'Ventas', 'Marketing', 'IT', 'Ventas'],\n",
    "    'Salario': [70000, np.nan, 45000, np.nan, 60000, 75000, np.nan],\n",
    "    'Experiencia': [5, 3, 2, 4, 6, 7, 1]\n",
    "}\n",
    "df_rel = pd.DataFrame(data_rel)\n",
    "print(\"DataFrame con relaciones:\")\n",
    "print(df_rel)\n",
    "\n",
    "# Calcular salario promedio por departamento\n",
    "salario_por_dept = df_rel.groupby('Departamento')['Salario'].mean()\n",
    "print(f\"\\nSalario promedio por departamento:\")\n",
    "print(salario_por_dept)\n",
    "\n",
    "# Imputar basado en departamento\n",
    "def imputar_por_grupo(row):\n",
    "    if pd.isna(row['Salario']):\n",
    "        return salario_por_dept[row['Departamento']]\n",
    "    return row['Salario']\n",
    "\n",
    "df_rel['Salario'] = df_rel.apply(imputar_por_grupo, axis=1)\n",
    "print(f\"\\nDataFrame después de imputación por grupo:\")\n",
    "print(df_rel)"
   ],
   "id": "26b934978df51a30",
   "outputs": [
    {
     "name": "stdout",
     "output_type": "stream",
     "text": [
      "DataFrame con relaciones:\n",
      "  Departamento  Salario  Experiencia\n",
      "0           IT  70000.0            5\n",
      "1           IT      NaN            3\n",
      "2       Ventas  45000.0            2\n",
      "3       Ventas      NaN            4\n",
      "4    Marketing  60000.0            6\n",
      "5           IT  75000.0            7\n",
      "6       Ventas      NaN            1\n",
      "\n",
      "Salario promedio por departamento:\n",
      "Departamento\n",
      "IT           72500.0\n",
      "Marketing    60000.0\n",
      "Ventas       45000.0\n",
      "Name: Salario, dtype: float64\n",
      "\n",
      "DataFrame después de imputación por grupo:\n",
      "  Departamento  Salario  Experiencia\n",
      "0           IT  70000.0            5\n",
      "1           IT  72500.0            3\n",
      "2       Ventas  45000.0            2\n",
      "3       Ventas  45000.0            4\n",
      "4    Marketing  60000.0            6\n",
      "5           IT  75000.0            7\n",
      "6       Ventas  45000.0            1\n"
     ]
    }
   ],
   "execution_count": 20
  }
 ],
 "metadata": {
  "kernelspec": {
   "display_name": "Python [conda env:base] *",
   "language": "python",
   "name": "conda-base-py"
  },
  "language_info": {
   "codemirror_mode": {
    "name": "ipython",
    "version": 2
   },
   "file_extension": ".py",
   "mimetype": "text/x-python",
   "name": "python",
   "nbconvert_exporter": "python",
   "pygments_lexer": "ipython2",
   "version": "2.7.6"
  }
 },
 "nbformat": 4,
 "nbformat_minor": 5
}
