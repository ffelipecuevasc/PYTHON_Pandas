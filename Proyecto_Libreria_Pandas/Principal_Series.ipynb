{
 "cells": [
  {
   "metadata": {},
   "cell_type": "markdown",
   "source": "## Importación de la librería",
   "id": "fd8e2ebe2d946163"
  },
  {
   "cell_type": "code",
   "id": "initial_id",
   "metadata": {
    "collapsed": true,
    "ExecuteTime": {
     "end_time": "2025-06-24T01:59:11.435298Z",
     "start_time": "2025-06-24T01:59:09.741623Z"
    }
   },
   "source": [
    "import pandas as pd\n",
    "import numpy as np\n",
    "\n",
    "print(F\"Versión instalada de pandas = {pd.__version__}\")\n",
    "print(F\"Versión instalada de numpy = {np.__version__}\")"
   ],
   "outputs": [],
   "execution_count": 1
  },
  {
   "metadata": {},
   "cell_type": "markdown",
   "source": [
    "## 1. Series en Pandas\n",
    "\n",
    "### ¿Qué es una Series?\n",
    "Una Series es una estructura de datos unidimensional con índices etiquetados. Es como una columna de una tabla o un array con etiquetas."
   ],
   "id": "db516a2070fee35"
  },
  {
   "metadata": {
    "ExecuteTime": {
     "end_time": "2025-06-24T02:04:43.301681Z",
     "start_time": "2025-06-24T02:04:43.283025Z"
    }
   },
   "cell_type": "code",
   "source": [
    "# Crear Series desde una lista\n",
    "serie_numeros = pd.Series([10, 20, 30, 40, 50])\n",
    "print(\"Serie desde lista:\")\n",
    "print(serie_numeros)\n",
    "print()"
   ],
   "id": "b031c9ae9d223bb1",
   "outputs": [
    {
     "name": "stdout",
     "output_type": "stream",
     "text": [
      "Serie desde lista:\n",
      "0    10\n",
      "1    20\n",
      "2    30\n",
      "3    40\n",
      "4    50\n",
      "dtype: int64\n",
      "\n"
     ]
    }
   ],
   "execution_count": 2
  },
  {
   "metadata": {
    "ExecuteTime": {
     "end_time": "2025-06-24T02:04:45.775607Z",
     "start_time": "2025-06-24T02:04:45.759503Z"
    }
   },
   "cell_type": "code",
   "source": [
    "# Crear Series con índices personalizados\n",
    "serie_frutas = pd.Series([5, 3, 8, 2], index=['manzanas', 'naranjas', 'plátanos', 'uvas'])\n",
    "print(\"Serie con índices personalizados:\")\n",
    "print(serie_frutas)\n",
    "print()"
   ],
   "id": "f43af7dbdc31b996",
   "outputs": [
    {
     "name": "stdout",
     "output_type": "stream",
     "text": [
      "Serie con índices personalizados:\n",
      "manzanas    5\n",
      "naranjas    3\n",
      "plátanos    8\n",
      "uvas        2\n",
      "dtype: int64\n",
      "\n"
     ]
    }
   ],
   "execution_count": 3
  },
  {
   "metadata": {
    "ExecuteTime": {
     "end_time": "2025-06-24T02:04:47.782132Z",
     "start_time": "2025-06-24T02:04:47.768725Z"
    }
   },
   "cell_type": "code",
   "source": [
    "# Crear Series desde un diccionario\n",
    "ventas = {'enero': 1000, 'febrero': 1200, 'marzo': 900, 'abril': 1500}\n",
    "serie_ventas = pd.Series(ventas)\n",
    "print(\"Serie desde diccionario:\")\n",
    "print(serie_ventas)\n",
    "print()"
   ],
   "id": "7e3d8539f2bc3855",
   "outputs": [
    {
     "name": "stdout",
     "output_type": "stream",
     "text": [
      "Serie desde diccionario:\n",
      "enero      1000\n",
      "febrero    1200\n",
      "marzo       900\n",
      "abril      1500\n",
      "dtype: int64\n",
      "\n"
     ]
    }
   ],
   "execution_count": 4
  },
  {
   "metadata": {},
   "cell_type": "markdown",
   "source": "### Acceso a elementos de una Series",
   "id": "c2920ab44bfcabd6"
  },
  {
   "metadata": {
    "ExecuteTime": {
     "end_time": "2025-06-24T02:06:35.655254Z",
     "start_time": "2025-06-24T02:06:35.630956Z"
    }
   },
   "cell_type": "code",
   "source": [
    "# Acceso por índice posicional\n",
    "print(\"Primer elemento:\", serie_numeros[0])\n",
    "print(\"Último elemento:\", serie_numeros.iloc[-1])  # Usar iloc para acceso posicional\n",
    "print()\n",
    "\n",
    "# Acceso por etiqueta de índice\n",
    "print(\"Ventas de marzo:\", serie_ventas['marzo'])\n",
    "print(\"Cantidad de manzanas:\", serie_frutas['manzanas'])\n",
    "print()\n",
    "\n",
    "# Acceso a múltiples elementos\n",
    "print(\"Primeros 3 elementos:\")\n",
    "print(serie_numeros[:3])\n",
    "print()\n",
    "print(\"Ventas de enero y abril:\")\n",
    "print(serie_ventas[['enero', 'abril']])\n",
    "print()"
   ],
   "id": "17ae992e3c228f62",
   "outputs": [
    {
     "name": "stdout",
     "output_type": "stream",
     "text": [
      "Primer elemento: 10\n",
      "Último elemento: 50\n",
      "\n",
      "Ventas de marzo: 900\n",
      "Cantidad de manzanas: 5\n",
      "\n",
      "Primeros 3 elementos:\n",
      "0    10\n",
      "1    20\n",
      "2    30\n",
      "dtype: int64\n",
      "\n",
      "Ventas de enero y abril:\n",
      "enero    1000\n",
      "abril    1500\n",
      "dtype: int64\n",
      "\n"
     ]
    }
   ],
   "execution_count": 6
  },
  {
   "metadata": {},
   "cell_type": "markdown",
   "source": "### Operaciones básicas con Series",
   "id": "1c86aaf2bde4e7c1"
  },
  {
   "metadata": {
    "ExecuteTime": {
     "end_time": "2025-06-24T02:06:39.454048Z",
     "start_time": "2025-06-24T02:06:39.436892Z"
    }
   },
   "cell_type": "code",
   "source": [
    "# Operaciones matemáticas\n",
    "print(\"Serie original:\")\n",
    "print(serie_numeros)\n",
    "print(\"\\nSuma 5 a todos los elementos:\")\n",
    "print(serie_numeros + 5)\n",
    "print(\"\\nMultiplica por 2:\")\n",
    "print(serie_numeros * 2)\n",
    "print()\n",
    "\n",
    "# Operaciones estadísticas\n",
    "print(\"Suma total:\", serie_numeros.sum())\n",
    "print(\"Promedio:\", serie_numeros.mean())\n",
    "print(\"Valor máximo:\", serie_numeros.max())\n",
    "print(\"Valor mínimo:\", serie_numeros.min())\n",
    "print()"
   ],
   "id": "16ccceb255332d99",
   "outputs": [
    {
     "name": "stdout",
     "output_type": "stream",
     "text": [
      "Serie original:\n",
      "0    10\n",
      "1    20\n",
      "2    30\n",
      "3    40\n",
      "4    50\n",
      "dtype: int64\n",
      "\n",
      "Suma 5 a todos los elementos:\n",
      "0    15\n",
      "1    25\n",
      "2    35\n",
      "3    45\n",
      "4    55\n",
      "dtype: int64\n",
      "\n",
      "Multiplica por 2:\n",
      "0     20\n",
      "1     40\n",
      "2     60\n",
      "3     80\n",
      "4    100\n",
      "dtype: int64\n",
      "\n",
      "Suma total: 150\n",
      "Promedio: 30.0\n",
      "Valor máximo: 50\n",
      "Valor mínimo: 10\n",
      "\n"
     ]
    }
   ],
   "execution_count": 7
  },
  {
   "metadata": {},
   "cell_type": "markdown",
   "source": "### Filtrado de Series",
   "id": "365e8a967ee11df9"
  },
  {
   "metadata": {
    "ExecuteTime": {
     "end_time": "2025-06-24T02:06:41.419163Z",
     "start_time": "2025-06-24T02:06:41.397546Z"
    }
   },
   "cell_type": "code",
   "source": [
    "# Filtrar elementos mayores a un valor\n",
    "print(\"Frutas con más de 4 unidades:\")\n",
    "print(serie_frutas[serie_frutas > 4])\n",
    "print()\n",
    "\n",
    "# Filtrar con múltiples condiciones\n",
    "print(\"Números entre 20 y 40:\")\n",
    "print(serie_numeros[(serie_numeros >= 20) & (serie_numeros <= 40)])\n",
    "print()"
   ],
   "id": "35c8648b1677ee4f",
   "outputs": [
    {
     "name": "stdout",
     "output_type": "stream",
     "text": [
      "Frutas con más de 4 unidades:\n",
      "manzanas    5\n",
      "plátanos    8\n",
      "dtype: int64\n",
      "\n",
      "Números entre 20 y 40:\n",
      "1    20\n",
      "2    30\n",
      "3    40\n",
      "dtype: int64\n",
      "\n"
     ]
    }
   ],
   "execution_count": 8
  },
  {
   "metadata": {},
   "cell_type": "markdown",
   "source": "### Métodos útiles de Series",
   "id": "6cca868045097ac1"
  },
  {
   "metadata": {
    "ExecuteTime": {
     "end_time": "2025-06-24T02:06:43.607870Z",
     "start_time": "2025-06-24T02:06:43.580713Z"
    }
   },
   "cell_type": "code",
   "source": [
    "# Información básica\n",
    "print(\"Información de la serie:\")\n",
    "print(f\"Tamaño: {serie_frutas.size}\")\n",
    "print(f\"Forma: {serie_frutas.shape}\")\n",
    "print(f\"Índice: {list(serie_frutas.index)}\")\n",
    "print(f\"Valores: {list(serie_frutas.values)}\")\n",
    "print()\n",
    "\n",
    "# Verificar valores nulos\n",
    "serie_con_nulos = pd.Series([1, 2, None, 4, 5])\n",
    "print(\"Serie con valores nulos:\")\n",
    "print(serie_con_nulos)\n",
    "print(\"¿Hay valores nulos?:\", serie_con_nulos.isnull().any())\n",
    "print(\"Cantidad de valores nulos:\", serie_con_nulos.isnull().sum())\n",
    "print()"
   ],
   "id": "ab78e80658b546d4",
   "outputs": [
    {
     "name": "stdout",
     "output_type": "stream",
     "text": [
      "Información de la serie:\n",
      "Tamaño: 4\n",
      "Forma: (4,)\n",
      "Índice: ['manzanas', 'naranjas', 'plátanos', 'uvas']\n",
      "Valores: [5, 3, 8, 2]\n",
      "\n",
      "Serie con valores nulos:\n",
      "0    1.0\n",
      "1    2.0\n",
      "2    NaN\n",
      "3    4.0\n",
      "4    5.0\n",
      "dtype: float64\n",
      "¿Hay valores nulos?: True\n",
      "Cantidad de valores nulos: 1\n",
      "\n"
     ]
    }
   ],
   "execution_count": 9
  }
 ],
 "metadata": {
  "kernelspec": {
   "display_name": "Python [conda env:base] *",
   "language": "python",
   "name": "conda-base-py"
  },
  "language_info": {
   "codemirror_mode": {
    "name": "ipython",
    "version": 2
   },
   "file_extension": ".py",
   "mimetype": "text/x-python",
   "name": "python",
   "nbconvert_exporter": "python",
   "pygments_lexer": "ipython2",
   "version": "2.7.6"
  }
 },
 "nbformat": 4,
 "nbformat_minor": 5
}
